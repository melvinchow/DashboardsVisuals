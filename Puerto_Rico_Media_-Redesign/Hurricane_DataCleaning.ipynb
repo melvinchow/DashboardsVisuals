{
 "cells": [
  {
   "cell_type": "markdown",
   "metadata": {},
   "source": [
    "# The Media has neglected Puerto Rico during their Hurricane Crisis (Redesign)"
   ]
  },
  {
   "cell_type": "code",
   "execution_count": 2,
   "metadata": {
    "collapsed": true
   },
   "outputs": [],
   "source": [
    "import pandas as pd\n",
    "import numpy as np"
   ]
  },
  {
   "cell_type": "markdown",
   "metadata": {},
   "source": [
    "## Cleaning TV States data (to show activity spike before landfall)"
   ]
  },
  {
   "cell_type": "markdown",
   "metadata": {
    "collapsed": true
   },
   "source": [
    "Change dates in TV_States to days before/after landfall \n",
    "\n",
    "Texas Landfall - 8/26  \n",
    "Florida Landfall - 9/10  \n",
    "Maria Landfall - 9/20  "
   ]
  },
  {
   "cell_type": "code",
   "execution_count": 22,
   "metadata": {
    "collapsed": false
   },
   "outputs": [],
   "source": [
    "states = pd.read_csv(\"tv_states.csv\")"
   ]
  },
  {
   "cell_type": "code",
   "execution_count": 23,
   "metadata": {
    "collapsed": false
   },
   "outputs": [],
   "source": [
    "states['Days before Landfall'] = np.nan \n",
    "               # Some dates will be left nan. Those dates will be unneeded in Tableau"
   ]
  },
  {
   "cell_type": "markdown",
   "metadata": {},
   "source": [
    "We will look at the 5 days before landfall, and 2 days after"
   ]
  },
  {
   "cell_type": "code",
   "execution_count": 24,
   "metadata": {
    "collapsed": false
   },
   "outputs": [
    {
     "data": {
      "text/plain": [
       "[6, 5, 4, 3, 2, 1, 0, -1, -2]"
      ]
     },
     "execution_count": 24,
     "metadata": {},
     "output_type": "execute_result"
    }
   ],
   "source": [
    "n = list(reversed(range(7)))\n",
    "n.append(-1)\n",
    "n.append(-2)\n",
    "n"
   ]
  },
  {
   "cell_type": "markdown",
   "metadata": {},
   "source": [
    "### Texas (Harvey) Landfall countdown:\n",
    "\n",
    "Hurricane Harvey happened the soonest. So lets see the 9 days starting from 2 days after landfall"
   ]
  },
  {
   "cell_type": "code",
   "execution_count": 25,
   "metadata": {
    "collapsed": false
   },
   "outputs": [],
   "source": [
    "states.loc[states.Date <= '8/28/17', 'Days before Landfall'] = n"
   ]
  },
  {
   "cell_type": "code",
   "execution_count": 26,
   "metadata": {
    "collapsed": false
   },
   "outputs": [
    {
     "data": {
      "text/html": [
       "<div>\n",
       "<style>\n",
       "    .dataframe thead tr:only-child th {\n",
       "        text-align: right;\n",
       "    }\n",
       "\n",
       "    .dataframe thead th {\n",
       "        text-align: left;\n",
       "    }\n",
       "\n",
       "    .dataframe tbody tr th {\n",
       "        vertical-align: top;\n",
       "    }\n",
       "</style>\n",
       "<table border=\"1\" class=\"dataframe\">\n",
       "  <thead>\n",
       "    <tr style=\"text-align: right;\">\n",
       "      <th></th>\n",
       "      <th>Date</th>\n",
       "      <th>Florida</th>\n",
       "      <th>Texas</th>\n",
       "      <th>Puerto Rico</th>\n",
       "      <th>Days before Landfall</th>\n",
       "    </tr>\n",
       "  </thead>\n",
       "  <tbody>\n",
       "    <tr>\n",
       "      <th>0</th>\n",
       "      <td>8/20/17</td>\n",
       "      <td>0.0923</td>\n",
       "      <td>0.0286</td>\n",
       "      <td>0.0000</td>\n",
       "      <td>6.0</td>\n",
       "    </tr>\n",
       "    <tr>\n",
       "      <th>1</th>\n",
       "      <td>8/21/17</td>\n",
       "      <td>0.0441</td>\n",
       "      <td>0.0904</td>\n",
       "      <td>0.0099</td>\n",
       "      <td>5.0</td>\n",
       "    </tr>\n",
       "    <tr>\n",
       "      <th>2</th>\n",
       "      <td>8/22/17</td>\n",
       "      <td>0.0359</td>\n",
       "      <td>0.0334</td>\n",
       "      <td>0.0000</td>\n",
       "      <td>4.0</td>\n",
       "    </tr>\n",
       "    <tr>\n",
       "      <th>3</th>\n",
       "      <td>8/23/17</td>\n",
       "      <td>0.0431</td>\n",
       "      <td>0.0839</td>\n",
       "      <td>0.0103</td>\n",
       "      <td>3.0</td>\n",
       "    </tr>\n",
       "    <tr>\n",
       "      <th>4</th>\n",
       "      <td>8/24/17</td>\n",
       "      <td>0.0492</td>\n",
       "      <td>0.3978</td>\n",
       "      <td>0.0184</td>\n",
       "      <td>2.0</td>\n",
       "    </tr>\n",
       "    <tr>\n",
       "      <th>5</th>\n",
       "      <td>8/25/17</td>\n",
       "      <td>0.0442</td>\n",
       "      <td>1.4639</td>\n",
       "      <td>0.0000</td>\n",
       "      <td>1.0</td>\n",
       "    </tr>\n",
       "    <tr>\n",
       "      <th>6</th>\n",
       "      <td>8/26/17</td>\n",
       "      <td>0.0330</td>\n",
       "      <td>2.3203</td>\n",
       "      <td>0.0391</td>\n",
       "      <td>0.0</td>\n",
       "    </tr>\n",
       "    <tr>\n",
       "      <th>7</th>\n",
       "      <td>8/27/17</td>\n",
       "      <td>0.0825</td>\n",
       "      <td>1.6419</td>\n",
       "      <td>0.0459</td>\n",
       "      <td>-1.0</td>\n",
       "    </tr>\n",
       "    <tr>\n",
       "      <th>8</th>\n",
       "      <td>8/28/17</td>\n",
       "      <td>0.0346</td>\n",
       "      <td>2.5069</td>\n",
       "      <td>0.0096</td>\n",
       "      <td>-2.0</td>\n",
       "    </tr>\n",
       "  </tbody>\n",
       "</table>\n",
       "</div>"
      ],
      "text/plain": [
       "      Date  Florida   Texas  Puerto Rico  Days before Landfall\n",
       "0  8/20/17   0.0923  0.0286       0.0000                   6.0\n",
       "1  8/21/17   0.0441  0.0904       0.0099                   5.0\n",
       "2  8/22/17   0.0359  0.0334       0.0000                   4.0\n",
       "3  8/23/17   0.0431  0.0839       0.0103                   3.0\n",
       "4  8/24/17   0.0492  0.3978       0.0184                   2.0\n",
       "5  8/25/17   0.0442  1.4639       0.0000                   1.0\n",
       "6  8/26/17   0.0330  2.3203       0.0391                   0.0\n",
       "7  8/27/17   0.0825  1.6419       0.0459                  -1.0\n",
       "8  8/28/17   0.0346  2.5069       0.0096                  -2.0"
      ]
     },
     "execution_count": 26,
     "metadata": {},
     "output_type": "execute_result"
    }
   ],
   "source": [
    "states[states.Date <= '8/28/17']"
   ]
  },
  {
   "cell_type": "markdown",
   "metadata": {},
   "source": [
    "### Florida (Irma) Landfall Countdown:"
   ]
  },
  {
   "cell_type": "markdown",
   "metadata": {},
   "source": [
    "Need tens digit for date in September 1-9 (index 12-20 inclusive), otherwise conditional boolean mask will not see those dates."
   ]
  },
  {
   "cell_type": "code",
   "execution_count": 27,
   "metadata": {
    "collapsed": false
   },
   "outputs": [
    {
     "data": {
      "text/plain": [
       "'9/17'"
      ]
     },
     "execution_count": 27,
     "metadata": {},
     "output_type": "execute_result"
    }
   ],
   "source": [
    "dates = states.Date.values   # Pointer to dates column in dataframe\n",
    "\n",
    "f = dates[20]\n",
    "f[2:]"
   ]
  },
  {
   "cell_type": "code",
   "execution_count": 28,
   "metadata": {
    "collapsed": true
   },
   "outputs": [],
   "source": [
    "# RUN THIS CELL ONLY ONCE, or it will add unneeded 0's in date entries\n",
    "\n",
    "for i in range(12, 21):\n",
    "    s = dates[i].split('/')\n",
    "    dates[i] = dates[i][:2] + '0' + dates[i][2:]"
   ]
  },
  {
   "cell_type": "code",
   "execution_count": 29,
   "metadata": {
    "collapsed": false
   },
   "outputs": [],
   "source": [
    "states.loc[(states.Date >= '9/04/17') & (states.Date <= '9/12/17'), 'Days before Landfall'] = n"
   ]
  },
  {
   "cell_type": "code",
   "execution_count": 30,
   "metadata": {
    "collapsed": false
   },
   "outputs": [
    {
     "data": {
      "text/html": [
       "<div>\n",
       "<style>\n",
       "    .dataframe thead tr:only-child th {\n",
       "        text-align: right;\n",
       "    }\n",
       "\n",
       "    .dataframe thead th {\n",
       "        text-align: left;\n",
       "    }\n",
       "\n",
       "    .dataframe tbody tr th {\n",
       "        vertical-align: top;\n",
       "    }\n",
       "</style>\n",
       "<table border=\"1\" class=\"dataframe\">\n",
       "  <thead>\n",
       "    <tr style=\"text-align: right;\">\n",
       "      <th></th>\n",
       "      <th>Date</th>\n",
       "      <th>Florida</th>\n",
       "      <th>Texas</th>\n",
       "      <th>Puerto Rico</th>\n",
       "      <th>Days before Landfall</th>\n",
       "    </tr>\n",
       "  </thead>\n",
       "  <tbody>\n",
       "    <tr>\n",
       "      <th>15</th>\n",
       "      <td>9/04/17</td>\n",
       "      <td>0.1194</td>\n",
       "      <td>0.4616</td>\n",
       "      <td>0.0363</td>\n",
       "      <td>6.0</td>\n",
       "    </tr>\n",
       "    <tr>\n",
       "      <th>16</th>\n",
       "      <td>9/05/17</td>\n",
       "      <td>0.5327</td>\n",
       "      <td>0.3904</td>\n",
       "      <td>0.1865</td>\n",
       "      <td>5.0</td>\n",
       "    </tr>\n",
       "    <tr>\n",
       "      <th>17</th>\n",
       "      <td>9/06/17</td>\n",
       "      <td>1.3598</td>\n",
       "      <td>0.3831</td>\n",
       "      <td>0.4960</td>\n",
       "      <td>4.0</td>\n",
       "    </tr>\n",
       "    <tr>\n",
       "      <th>18</th>\n",
       "      <td>9/07/17</td>\n",
       "      <td>2.1610</td>\n",
       "      <td>0.3140</td>\n",
       "      <td>0.3286</td>\n",
       "      <td>3.0</td>\n",
       "    </tr>\n",
       "    <tr>\n",
       "      <th>19</th>\n",
       "      <td>9/08/17</td>\n",
       "      <td>3.2173</td>\n",
       "      <td>0.3867</td>\n",
       "      <td>0.1086</td>\n",
       "      <td>2.0</td>\n",
       "    </tr>\n",
       "    <tr>\n",
       "      <th>20</th>\n",
       "      <td>9/09/17</td>\n",
       "      <td>3.6556</td>\n",
       "      <td>0.2020</td>\n",
       "      <td>0.0481</td>\n",
       "      <td>1.0</td>\n",
       "    </tr>\n",
       "    <tr>\n",
       "      <th>21</th>\n",
       "      <td>9/10/17</td>\n",
       "      <td>2.0631</td>\n",
       "      <td>0.0776</td>\n",
       "      <td>0.0084</td>\n",
       "      <td>0.0</td>\n",
       "    </tr>\n",
       "    <tr>\n",
       "      <th>22</th>\n",
       "      <td>9/11/17</td>\n",
       "      <td>3.0005</td>\n",
       "      <td>0.2950</td>\n",
       "      <td>0.1130</td>\n",
       "      <td>-1.0</td>\n",
       "    </tr>\n",
       "    <tr>\n",
       "      <th>23</th>\n",
       "      <td>9/12/17</td>\n",
       "      <td>2.2280</td>\n",
       "      <td>0.1923</td>\n",
       "      <td>0.0936</td>\n",
       "      <td>-2.0</td>\n",
       "    </tr>\n",
       "  </tbody>\n",
       "</table>\n",
       "</div>"
      ],
      "text/plain": [
       "       Date  Florida   Texas  Puerto Rico  Days before Landfall\n",
       "15  9/04/17   0.1194  0.4616       0.0363                   6.0\n",
       "16  9/05/17   0.5327  0.3904       0.1865                   5.0\n",
       "17  9/06/17   1.3598  0.3831       0.4960                   4.0\n",
       "18  9/07/17   2.1610  0.3140       0.3286                   3.0\n",
       "19  9/08/17   3.2173  0.3867       0.1086                   2.0\n",
       "20  9/09/17   3.6556  0.2020       0.0481                   1.0\n",
       "21  9/10/17   2.0631  0.0776       0.0084                   0.0\n",
       "22  9/11/17   3.0005  0.2950       0.1130                  -1.0\n",
       "23  9/12/17   2.2280  0.1923       0.0936                  -2.0"
      ]
     },
     "execution_count": 30,
     "metadata": {},
     "output_type": "execute_result"
    }
   ],
   "source": [
    "states[(states.Date >= '9/04/17') & (states.Date <= '9/12/17')]"
   ]
  },
  {
   "cell_type": "markdown",
   "metadata": {
    "collapsed": true
   },
   "source": [
    "### Puerto Rico (Maria) Landfall countdown"
   ]
  },
  {
   "cell_type": "code",
   "execution_count": 31,
   "metadata": {
    "collapsed": false
   },
   "outputs": [],
   "source": [
    "states.loc[(states.Date >= '9/14/17') & (states.Date <= '9/22/17'), 'Days before Landfall'] = n"
   ]
  },
  {
   "cell_type": "code",
   "execution_count": 32,
   "metadata": {
    "collapsed": false,
    "scrolled": true
   },
   "outputs": [
    {
     "data": {
      "text/html": [
       "<div>\n",
       "<style>\n",
       "    .dataframe thead tr:only-child th {\n",
       "        text-align: right;\n",
       "    }\n",
       "\n",
       "    .dataframe thead th {\n",
       "        text-align: left;\n",
       "    }\n",
       "\n",
       "    .dataframe tbody tr th {\n",
       "        vertical-align: top;\n",
       "    }\n",
       "</style>\n",
       "<table border=\"1\" class=\"dataframe\">\n",
       "  <thead>\n",
       "    <tr style=\"text-align: right;\">\n",
       "      <th></th>\n",
       "      <th>Date</th>\n",
       "      <th>Florida</th>\n",
       "      <th>Texas</th>\n",
       "      <th>Puerto Rico</th>\n",
       "      <th>Days before Landfall</th>\n",
       "    </tr>\n",
       "  </thead>\n",
       "  <tbody>\n",
       "    <tr>\n",
       "      <th>25</th>\n",
       "      <td>9/14/17</td>\n",
       "      <td>1.1859</td>\n",
       "      <td>0.1452</td>\n",
       "      <td>0.0408</td>\n",
       "      <td>6.0</td>\n",
       "    </tr>\n",
       "    <tr>\n",
       "      <th>26</th>\n",
       "      <td>9/15/17</td>\n",
       "      <td>0.2983</td>\n",
       "      <td>0.0807</td>\n",
       "      <td>0.0331</td>\n",
       "      <td>5.0</td>\n",
       "    </tr>\n",
       "    <tr>\n",
       "      <th>27</th>\n",
       "      <td>9/16/17</td>\n",
       "      <td>0.2434</td>\n",
       "      <td>0.0906</td>\n",
       "      <td>0.0000</td>\n",
       "      <td>4.0</td>\n",
       "    </tr>\n",
       "    <tr>\n",
       "      <th>28</th>\n",
       "      <td>9/17/17</td>\n",
       "      <td>0.2607</td>\n",
       "      <td>0.0534</td>\n",
       "      <td>0.0245</td>\n",
       "      <td>3.0</td>\n",
       "    </tr>\n",
       "    <tr>\n",
       "      <th>29</th>\n",
       "      <td>9/18/17</td>\n",
       "      <td>0.1238</td>\n",
       "      <td>0.0645</td>\n",
       "      <td>0.2057</td>\n",
       "      <td>2.0</td>\n",
       "    </tr>\n",
       "    <tr>\n",
       "      <th>30</th>\n",
       "      <td>9/19/17</td>\n",
       "      <td>0.0751</td>\n",
       "      <td>0.0352</td>\n",
       "      <td>0.7063</td>\n",
       "      <td>1.0</td>\n",
       "    </tr>\n",
       "    <tr>\n",
       "      <th>31</th>\n",
       "      <td>9/20/17</td>\n",
       "      <td>0.1086</td>\n",
       "      <td>0.0648</td>\n",
       "      <td>1.3539</td>\n",
       "      <td>0.0</td>\n",
       "    </tr>\n",
       "    <tr>\n",
       "      <th>32</th>\n",
       "      <td>9/21/17</td>\n",
       "      <td>0.1569</td>\n",
       "      <td>0.1449</td>\n",
       "      <td>0.9296</td>\n",
       "      <td>-1.0</td>\n",
       "    </tr>\n",
       "    <tr>\n",
       "      <th>33</th>\n",
       "      <td>9/22/17</td>\n",
       "      <td>0.0693</td>\n",
       "      <td>0.0663</td>\n",
       "      <td>0.4819</td>\n",
       "      <td>-2.0</td>\n",
       "    </tr>\n",
       "  </tbody>\n",
       "</table>\n",
       "</div>"
      ],
      "text/plain": [
       "       Date  Florida   Texas  Puerto Rico  Days before Landfall\n",
       "25  9/14/17   1.1859  0.1452       0.0408                   6.0\n",
       "26  9/15/17   0.2983  0.0807       0.0331                   5.0\n",
       "27  9/16/17   0.2434  0.0906       0.0000                   4.0\n",
       "28  9/17/17   0.2607  0.0534       0.0245                   3.0\n",
       "29  9/18/17   0.1238  0.0645       0.2057                   2.0\n",
       "30  9/19/17   0.0751  0.0352       0.7063                   1.0\n",
       "31  9/20/17   0.1086  0.0648       1.3539                   0.0\n",
       "32  9/21/17   0.1569  0.1449       0.9296                  -1.0\n",
       "33  9/22/17   0.0693  0.0663       0.4819                  -2.0"
      ]
     },
     "execution_count": 32,
     "metadata": {},
     "output_type": "execute_result"
    }
   ],
   "source": [
    "states[(states.Date >= '9/14/17') & (states.Date <= '9/22/17')]"
   ]
  },
  {
   "cell_type": "code",
   "execution_count": 33,
   "metadata": {
    "collapsed": true
   },
   "outputs": [],
   "source": [
    "states.to_csv(\"tv_rate_spikes.csv\")"
   ]
  },
  {
   "cell_type": "markdown",
   "metadata": {
    "collapsed": true
   },
   "source": [
    "## Show cumulative sentences (or number of mentions) spoken after every day (Hurricane):"
   ]
  },
  {
   "cell_type": "markdown",
   "metadata": {},
   "source": [
    "We will need \"mediacloud_hurricanes\" and \"tv_hurricanes by network\" datasets.  \n",
    "Join them so we can compute number of sentences each network has spoken about each hurricane."
   ]
  },
  {
   "cell_type": "code",
   "execution_count": 4,
   "metadata": {
    "collapsed": true
   },
   "outputs": [],
   "source": [
    "News_Percents = pd.read_csv(\"tv_hurricanes_by_network.csv\")"
   ]
  },
  {
   "cell_type": "code",
   "execution_count": 5,
   "metadata": {
    "collapsed": true
   },
   "outputs": [],
   "source": [
    "hurricane_sentences = pd.read_csv(\"mediacloud_hurricanes.csv\")"
   ]
  },
  {
   "cell_type": "markdown",
   "metadata": {},
   "source": [
    "Need a Totals column for later computation"
   ]
  },
  {
   "cell_type": "code",
   "execution_count": 6,
   "metadata": {
    "collapsed": true
   },
   "outputs": [],
   "source": [
    "News_Percents['Total_%'] = News_Percents['BBC News'] + News_Percents['FOX News'] \\\n",
    "           + News_Percents['CNN'] + News_Percents['MSNBC']"
   ]
  },
  {
   "cell_type": "markdown",
   "metadata": {},
   "source": [
    "### Hurricane Harvey Joining"
   ]
  },
  {
   "cell_type": "code",
   "execution_count": 7,
   "metadata": {
    "collapsed": false
   },
   "outputs": [],
   "source": [
    "HarveyTV = News_Percents[News_Percents['Query'] == 'Hurricane Harvey']"
   ]
  },
  {
   "cell_type": "markdown",
   "metadata": {},
   "source": [
    "Collect list of dates for comparison:"
   ]
  },
  {
   "cell_type": "code",
   "execution_count": 8,
   "metadata": {
    "collapsed": false
   },
   "outputs": [
    {
     "data": {
      "text/plain": [
       "array(['8/24/17', '8/25/17', '8/26/17', '8/27/17', '8/28/17', '8/29/17',\n",
       "       '8/30/17', '8/31/17', '9/1/17', '9/2/17', '9/3/17', '9/4/17',\n",
       "       '9/5/17', '9/6/17', '9/7/17', '9/8/17', '9/9/17', '9/10/17',\n",
       "       '9/11/17', '9/12/17', '9/13/17', '9/14/17', '9/15/17', '9/16/17',\n",
       "       '9/17/17', '9/18/17', '9/19/17', '9/20/17', '9/21/17', '9/22/17',\n",
       "       '9/23/17', '9/24/17', '9/25/17'], dtype=object)"
      ]
     },
     "execution_count": 8,
     "metadata": {},
     "output_type": "execute_result"
    }
   ],
   "source": [
    "Valid_Dates = HarveyTV.Date.values\n",
    "Valid_Dates"
   ]
  },
  {
   "cell_type": "markdown",
   "metadata": {},
   "source": [
    "Remove dates that don't exist in both datasets (Sentences dataset contains more dates than TV set)"
   ]
  },
  {
   "cell_type": "code",
   "execution_count": 160,
   "metadata": {
    "collapsed": false
   },
   "outputs": [],
   "source": [
    "HarveySentence = hurricane_sentences[['Date', 'Harvey']]\\\n",
    "[hurricane_sentences.Date.isin(Valid_Dates)]  # Date must exist in list of dates"
   ]
  },
  {
   "cell_type": "code",
   "execution_count": 161,
   "metadata": {
    "collapsed": false
   },
   "outputs": [
    {
     "data": {
      "text/html": [
       "<div>\n",
       "<style>\n",
       "    .dataframe thead tr:only-child th {\n",
       "        text-align: right;\n",
       "    }\n",
       "\n",
       "    .dataframe thead th {\n",
       "        text-align: left;\n",
       "    }\n",
       "\n",
       "    .dataframe tbody tr th {\n",
       "        vertical-align: top;\n",
       "    }\n",
       "</style>\n",
       "<table border=\"1\" class=\"dataframe\">\n",
       "  <thead>\n",
       "    <tr style=\"text-align: right;\">\n",
       "      <th></th>\n",
       "      <th>Date</th>\n",
       "      <th>Harvey</th>\n",
       "    </tr>\n",
       "  </thead>\n",
       "  <tbody>\n",
       "    <tr>\n",
       "      <th>4</th>\n",
       "      <td>8/24/17</td>\n",
       "      <td>309</td>\n",
       "    </tr>\n",
       "    <tr>\n",
       "      <th>5</th>\n",
       "      <td>8/25/17</td>\n",
       "      <td>1348</td>\n",
       "    </tr>\n",
       "    <tr>\n",
       "      <th>6</th>\n",
       "      <td>8/26/17</td>\n",
       "      <td>995</td>\n",
       "    </tr>\n",
       "    <tr>\n",
       "      <th>7</th>\n",
       "      <td>8/27/17</td>\n",
       "      <td>960</td>\n",
       "    </tr>\n",
       "    <tr>\n",
       "      <th>8</th>\n",
       "      <td>8/28/17</td>\n",
       "      <td>1956</td>\n",
       "    </tr>\n",
       "  </tbody>\n",
       "</table>\n",
       "</div>"
      ],
      "text/plain": [
       "      Date  Harvey\n",
       "4  8/24/17     309\n",
       "5  8/25/17    1348\n",
       "6  8/26/17     995\n",
       "7  8/27/17     960\n",
       "8  8/28/17    1956"
      ]
     },
     "execution_count": 161,
     "metadata": {},
     "output_type": "execute_result"
    }
   ],
   "source": [
    "HarveySentence.head()"
   ]
  },
  {
   "cell_type": "code",
   "execution_count": 162,
   "metadata": {
    "collapsed": false
   },
   "outputs": [],
   "source": [
    "HarveySentence = HarveySentence.rename(columns={'Harvey':'Num_Sentences'})"
   ]
  },
  {
   "cell_type": "markdown",
   "metadata": {},
   "source": [
    "Join the two datasets:"
   ]
  },
  {
   "cell_type": "code",
   "execution_count": 163,
   "metadata": {
    "collapsed": false
   },
   "outputs": [],
   "source": [
    "HarveyTV.set_index(['Date'], inplace=True)   # Change both sets' indexes so they match\n",
    "HarveySentence.set_index(['Date'], inplace=True)"
   ]
  },
  {
   "cell_type": "code",
   "execution_count": 164,
   "metadata": {
    "collapsed": false
   },
   "outputs": [],
   "source": [
    "join = [HarveyTV, HarveySentence]\n",
    "HarveyJoin = pd.concat(join, axis=1, join_axes=[HarveyTV.index])"
   ]
  },
  {
   "cell_type": "markdown",
   "metadata": {},
   "source": [
    "Currently 'Num_Sentences' = 'Total_%' of all sentences spoken in news.  \n",
    "So 'Num_Sentences' / 'Total_%' = 'all sentences spoken in news'  \n",
    "We need # of all sentences to compute # of acutal sentences spoken by each news network."
   ]
  },
  {
   "cell_type": "code",
   "execution_count": 165,
   "metadata": {
    "collapsed": true
   },
   "outputs": [],
   "source": [
    "HarveyJoin.Num_Sentences = HarveyJoin.Num_Sentences / HarveyJoin['Total_%']"
   ]
  },
  {
   "cell_type": "markdown",
   "metadata": {},
   "source": [
    "Turn News network percentages into Number of Sentences.  \n",
    "Percentages currently out of 100, so divide all by 100"
   ]
  },
  {
   "cell_type": "code",
   "execution_count": 166,
   "metadata": {
    "collapsed": false
   },
   "outputs": [],
   "source": [
    "HarveyJoin['BBC News'] = HarveyJoin['BBC News']/100 * HarveyJoin.Num_Sentences\n",
    "HarveyJoin['CNN'] = HarveyJoin['CNN']/100 * HarveyJoin.Num_Sentences\n",
    "HarveyJoin['FOX News'] = HarveyJoin['FOX News']/100 * HarveyJoin.Num_Sentences\n",
    "HarveyJoin['MSNBC'] = HarveyJoin['MSNBC']/100 * HarveyJoin.Num_Sentences"
   ]
  },
  {
   "cell_type": "markdown",
   "metadata": {},
   "source": [
    "Turn those numbers into cumulative sums (Total sentences spoken increase each day)"
   ]
  },
  {
   "cell_type": "code",
   "execution_count": 167,
   "metadata": {
    "collapsed": true
   },
   "outputs": [],
   "source": [
    "HarveyJoin['BBC News'] = HarveyJoin['BBC News'].cumsum(axis=0)\n",
    "HarveyJoin['CNN'] = HarveyJoin['CNN'].cumsum(axis=0)\n",
    "HarveyJoin['FOX News'] = HarveyJoin['FOX News'].cumsum(axis=0)\n",
    "HarveyJoin['MSNBC'] = HarveyJoin['MSNBC'].cumsum(axis=0)"
   ]
  },
  {
   "cell_type": "code",
   "execution_count": 168,
   "metadata": {
    "collapsed": false
   },
   "outputs": [
    {
     "data": {
      "text/html": [
       "<div>\n",
       "<style>\n",
       "    .dataframe thead tr:only-child th {\n",
       "        text-align: right;\n",
       "    }\n",
       "\n",
       "    .dataframe thead th {\n",
       "        text-align: left;\n",
       "    }\n",
       "\n",
       "    .dataframe tbody tr th {\n",
       "        vertical-align: top;\n",
       "    }\n",
       "</style>\n",
       "<table border=\"1\" class=\"dataframe\">\n",
       "  <thead>\n",
       "    <tr style=\"text-align: right;\">\n",
       "      <th></th>\n",
       "      <th>Query</th>\n",
       "      <th>BBC News</th>\n",
       "      <th>CNN</th>\n",
       "      <th>FOX News</th>\n",
       "      <th>MSNBC</th>\n",
       "      <th>Total_%</th>\n",
       "      <th>Num_Sentences</th>\n",
       "    </tr>\n",
       "    <tr>\n",
       "      <th>Date</th>\n",
       "      <th></th>\n",
       "      <th></th>\n",
       "      <th></th>\n",
       "      <th></th>\n",
       "      <th></th>\n",
       "      <th></th>\n",
       "      <th></th>\n",
       "    </tr>\n",
       "  </thead>\n",
       "  <tbody>\n",
       "    <tr>\n",
       "      <th>8/24/17</th>\n",
       "      <td>Hurricane Harvey</td>\n",
       "      <td>0.000000</td>\n",
       "      <td>1.200204</td>\n",
       "      <td>1.273901</td>\n",
       "      <td>0.615894</td>\n",
       "      <td>0.2935</td>\n",
       "      <td>1052.810903</td>\n",
       "    </tr>\n",
       "    <tr>\n",
       "      <th>8/25/17</th>\n",
       "      <td>Hurricane Harvey</td>\n",
       "      <td>1.809039</td>\n",
       "      <td>5.846971</td>\n",
       "      <td>4.871942</td>\n",
       "      <td>4.042048</td>\n",
       "      <td>2.5566</td>\n",
       "      <td>527.262771</td>\n",
       "    </tr>\n",
       "    <tr>\n",
       "      <th>8/26/17</th>\n",
       "      <td>Hurricane Harvey</td>\n",
       "      <td>3.875965</td>\n",
       "      <td>8.187318</td>\n",
       "      <td>7.816906</td>\n",
       "      <td>6.639811</td>\n",
       "      <td>3.6682</td>\n",
       "      <td>271.250204</td>\n",
       "    </tr>\n",
       "    <tr>\n",
       "      <th>8/27/17</th>\n",
       "      <td>Hurricane Harvey</td>\n",
       "      <td>5.106474</td>\n",
       "      <td>10.835906</td>\n",
       "      <td>10.906171</td>\n",
       "      <td>9.271449</td>\n",
       "      <td>0.8496</td>\n",
       "      <td>1129.943503</td>\n",
       "    </tr>\n",
       "    <tr>\n",
       "      <th>8/28/17</th>\n",
       "      <td>Hurricane Harvey</td>\n",
       "      <td>7.599230</td>\n",
       "      <td>17.486400</td>\n",
       "      <td>14.571018</td>\n",
       "      <td>16.023352</td>\n",
       "      <td>0.8294</td>\n",
       "      <td>2358.331324</td>\n",
       "    </tr>\n",
       "    <tr>\n",
       "      <th>8/29/17</th>\n",
       "      <td>Hurricane Harvey</td>\n",
       "      <td>12.488408</td>\n",
       "      <td>21.830895</td>\n",
       "      <td>22.681608</td>\n",
       "      <td>21.509088</td>\n",
       "      <td>0.8802</td>\n",
       "      <td>2593.728698</td>\n",
       "    </tr>\n",
       "    <tr>\n",
       "      <th>8/30/17</th>\n",
       "      <td>Hurricane Harvey</td>\n",
       "      <td>14.476671</td>\n",
       "      <td>25.480960</td>\n",
       "      <td>29.031856</td>\n",
       "      <td>25.550513</td>\n",
       "      <td>0.8151</td>\n",
       "      <td>1966.629861</td>\n",
       "    </tr>\n",
       "    <tr>\n",
       "      <th>8/31/17</th>\n",
       "      <td>Hurricane Harvey</td>\n",
       "      <td>17.354033</td>\n",
       "      <td>29.389060</td>\n",
       "      <td>33.530113</td>\n",
       "      <td>29.296794</td>\n",
       "      <td>1.1053</td>\n",
       "      <td>1359.811816</td>\n",
       "    </tr>\n",
       "    <tr>\n",
       "      <th>9/1/17</th>\n",
       "      <td>Hurricane Harvey</td>\n",
       "      <td>18.346267</td>\n",
       "      <td>32.342268</td>\n",
       "      <td>37.643931</td>\n",
       "      <td>32.327534</td>\n",
       "      <td>1.4161</td>\n",
       "      <td>783.136784</td>\n",
       "    </tr>\n",
       "    <tr>\n",
       "      <th>9/2/17</th>\n",
       "      <td>Hurricane Harvey</td>\n",
       "      <td>19.204499</td>\n",
       "      <td>34.066458</td>\n",
       "      <td>40.381916</td>\n",
       "      <td>34.007126</td>\n",
       "      <td>1.9934</td>\n",
       "      <td>351.158824</td>\n",
       "    </tr>\n",
       "    <tr>\n",
       "      <th>9/3/17</th>\n",
       "      <td>Hurricane Harvey</td>\n",
       "      <td>19.609484</td>\n",
       "      <td>35.119419</td>\n",
       "      <td>41.766914</td>\n",
       "      <td>36.624183</td>\n",
       "      <td>1.0853</td>\n",
       "      <td>503.086704</td>\n",
       "    </tr>\n",
       "    <tr>\n",
       "      <th>9/4/17</th>\n",
       "      <td>Hurricane Harvey</td>\n",
       "      <td>19.792877</td>\n",
       "      <td>37.045039</td>\n",
       "      <td>44.309625</td>\n",
       "      <td>39.102459</td>\n",
       "      <td>0.8631</td>\n",
       "      <td>826.091994</td>\n",
       "    </tr>\n",
       "    <tr>\n",
       "      <th>9/5/17</th>\n",
       "      <td>Hurricane Harvey</td>\n",
       "      <td>21.788000</td>\n",
       "      <td>40.332932</td>\n",
       "      <td>48.372301</td>\n",
       "      <td>41.786767</td>\n",
       "      <td>0.5481</td>\n",
       "      <td>2194.854953</td>\n",
       "    </tr>\n",
       "    <tr>\n",
       "      <th>9/6/17</th>\n",
       "      <td>Hurricane Harvey</td>\n",
       "      <td>22.367924</td>\n",
       "      <td>43.852616</td>\n",
       "      <td>51.458772</td>\n",
       "      <td>43.930688</td>\n",
       "      <td>0.6741</td>\n",
       "      <td>1384.067646</td>\n",
       "    </tr>\n",
       "    <tr>\n",
       "      <th>9/7/17</th>\n",
       "      <td>Hurricane Harvey</td>\n",
       "      <td>23.239930</td>\n",
       "      <td>45.437319</td>\n",
       "      <td>54.405985</td>\n",
       "      <td>45.966766</td>\n",
       "      <td>0.5324</td>\n",
       "      <td>1397.445530</td>\n",
       "    </tr>\n",
       "    <tr>\n",
       "      <th>9/8/17</th>\n",
       "      <td>Hurricane Harvey</td>\n",
       "      <td>23.499839</td>\n",
       "      <td>47.619057</td>\n",
       "      <td>57.207507</td>\n",
       "      <td>47.883596</td>\n",
       "      <td>0.5730</td>\n",
       "      <td>1249.563700</td>\n",
       "    </tr>\n",
       "    <tr>\n",
       "      <th>9/9/17</th>\n",
       "      <td>Hurricane Harvey</td>\n",
       "      <td>23.499839</td>\n",
       "      <td>47.793830</td>\n",
       "      <td>59.516414</td>\n",
       "      <td>49.599916</td>\n",
       "      <td>0.3076</td>\n",
       "      <td>1365.409623</td>\n",
       "    </tr>\n",
       "    <tr>\n",
       "      <th>9/10/17</th>\n",
       "      <td>Hurricane Harvey</td>\n",
       "      <td>23.869072</td>\n",
       "      <td>48.292115</td>\n",
       "      <td>61.428897</td>\n",
       "      <td>49.599916</td>\n",
       "      <td>0.1551</td>\n",
       "      <td>1792.392005</td>\n",
       "    </tr>\n",
       "    <tr>\n",
       "      <th>9/11/17</th>\n",
       "      <td>Hurricane Harvey</td>\n",
       "      <td>24.634091</td>\n",
       "      <td>48.818474</td>\n",
       "      <td>63.614430</td>\n",
       "      <td>50.123006</td>\n",
       "      <td>0.2447</td>\n",
       "      <td>1634.654679</td>\n",
       "    </tr>\n",
       "    <tr>\n",
       "      <th>9/12/17</th>\n",
       "      <td>Hurricane Harvey</td>\n",
       "      <td>24.833741</td>\n",
       "      <td>50.271487</td>\n",
       "      <td>66.110063</td>\n",
       "      <td>51.054709</td>\n",
       "      <td>0.1832</td>\n",
       "      <td>2772.925764</td>\n",
       "    </tr>\n",
       "    <tr>\n",
       "      <th>9/13/17</th>\n",
       "      <td>Hurricane Harvey</td>\n",
       "      <td>24.833741</td>\n",
       "      <td>50.763522</td>\n",
       "      <td>68.856807</td>\n",
       "      <td>52.465930</td>\n",
       "      <td>0.0860</td>\n",
       "      <td>5406.976744</td>\n",
       "    </tr>\n",
       "    <tr>\n",
       "      <th>9/14/17</th>\n",
       "      <td>Hurricane Harvey</td>\n",
       "      <td>25.528262</td>\n",
       "      <td>51.785459</td>\n",
       "      <td>70.265692</td>\n",
       "      <td>52.720587</td>\n",
       "      <td>0.1022</td>\n",
       "      <td>3307.240705</td>\n",
       "    </tr>\n",
       "    <tr>\n",
       "      <th>9/15/17</th>\n",
       "      <td>Hurricane Harvey</td>\n",
       "      <td>25.528262</td>\n",
       "      <td>51.785459</td>\n",
       "      <td>71.582610</td>\n",
       "      <td>54.063669</td>\n",
       "      <td>0.0305</td>\n",
       "      <td>8721.311475</td>\n",
       "    </tr>\n",
       "    <tr>\n",
       "      <th>9/16/17</th>\n",
       "      <td>Hurricane Harvey</td>\n",
       "      <td>25.626218</td>\n",
       "      <td>51.887613</td>\n",
       "      <td>72.077987</td>\n",
       "      <td>54.258182</td>\n",
       "      <td>0.0636</td>\n",
       "      <td>1399.371069</td>\n",
       "    </tr>\n",
       "    <tr>\n",
       "      <th>9/17/17</th>\n",
       "      <td>Hurricane Harvey</td>\n",
       "      <td>25.626218</td>\n",
       "      <td>52.477329</td>\n",
       "      <td>72.558271</td>\n",
       "      <td>54.258182</td>\n",
       "      <td>0.0176</td>\n",
       "      <td>6079.545455</td>\n",
       "    </tr>\n",
       "    <tr>\n",
       "      <th>9/18/17</th>\n",
       "      <td>Hurricane Harvey</td>\n",
       "      <td>25.626218</td>\n",
       "      <td>52.477329</td>\n",
       "      <td>75.438271</td>\n",
       "      <td>54.258182</td>\n",
       "      <td>0.0171</td>\n",
       "      <td>16842.105263</td>\n",
       "    </tr>\n",
       "    <tr>\n",
       "      <th>9/19/17</th>\n",
       "      <td>Hurricane Harvey</td>\n",
       "      <td>25.626218</td>\n",
       "      <td>52.477329</td>\n",
       "      <td>75.438271</td>\n",
       "      <td>56.218182</td>\n",
       "      <td>0.0142</td>\n",
       "      <td>13802.816901</td>\n",
       "    </tr>\n",
       "    <tr>\n",
       "      <th>9/20/17</th>\n",
       "      <td>Hurricane Harvey</td>\n",
       "      <td>26.482825</td>\n",
       "      <td>52.477329</td>\n",
       "      <td>76.200861</td>\n",
       "      <td>56.938985</td>\n",
       "      <td>0.0224</td>\n",
       "      <td>10446.428571</td>\n",
       "    </tr>\n",
       "    <tr>\n",
       "      <th>9/21/17</th>\n",
       "      <td>Hurricane Harvey</td>\n",
       "      <td>26.482825</td>\n",
       "      <td>52.868287</td>\n",
       "      <td>77.169690</td>\n",
       "      <td>57.269197</td>\n",
       "      <td>0.1085</td>\n",
       "      <td>1557.603687</td>\n",
       "    </tr>\n",
       "    <tr>\n",
       "      <th>9/22/17</th>\n",
       "      <td>Hurricane Harvey</td>\n",
       "      <td>26.482825</td>\n",
       "      <td>53.459473</td>\n",
       "      <td>77.700019</td>\n",
       "      <td>57.697683</td>\n",
       "      <td>0.1248</td>\n",
       "      <td>1241.987179</td>\n",
       "    </tr>\n",
       "    <tr>\n",
       "      <th>9/23/17</th>\n",
       "      <td>Hurricane Harvey</td>\n",
       "      <td>26.495080</td>\n",
       "      <td>53.459473</td>\n",
       "      <td>77.794395</td>\n",
       "      <td>57.711052</td>\n",
       "      <td>0.0754</td>\n",
       "      <td>159.151194</td>\n",
       "    </tr>\n",
       "    <tr>\n",
       "      <th>9/24/17</th>\n",
       "      <td>Hurricane Harvey</td>\n",
       "      <td>26.495080</td>\n",
       "      <td>53.459473</td>\n",
       "      <td>77.834395</td>\n",
       "      <td>57.711052</td>\n",
       "      <td>0.0156</td>\n",
       "      <td>256.410256</td>\n",
       "    </tr>\n",
       "    <tr>\n",
       "      <th>9/25/17</th>\n",
       "      <td>Hurricane Harvey</td>\n",
       "      <td>26.495080</td>\n",
       "      <td>53.459473</td>\n",
       "      <td>77.834395</td>\n",
       "      <td>57.711052</td>\n",
       "      <td>0.0470</td>\n",
       "      <td>0.000000</td>\n",
       "    </tr>\n",
       "  </tbody>\n",
       "</table>\n",
       "</div>"
      ],
      "text/plain": [
       "                    Query   BBC News        CNN   FOX News      MSNBC  \\\n",
       "Date                                                                    \n",
       "8/24/17  Hurricane Harvey   0.000000   1.200204   1.273901   0.615894   \n",
       "8/25/17  Hurricane Harvey   1.809039   5.846971   4.871942   4.042048   \n",
       "8/26/17  Hurricane Harvey   3.875965   8.187318   7.816906   6.639811   \n",
       "8/27/17  Hurricane Harvey   5.106474  10.835906  10.906171   9.271449   \n",
       "8/28/17  Hurricane Harvey   7.599230  17.486400  14.571018  16.023352   \n",
       "8/29/17  Hurricane Harvey  12.488408  21.830895  22.681608  21.509088   \n",
       "8/30/17  Hurricane Harvey  14.476671  25.480960  29.031856  25.550513   \n",
       "8/31/17  Hurricane Harvey  17.354033  29.389060  33.530113  29.296794   \n",
       "9/1/17   Hurricane Harvey  18.346267  32.342268  37.643931  32.327534   \n",
       "9/2/17   Hurricane Harvey  19.204499  34.066458  40.381916  34.007126   \n",
       "9/3/17   Hurricane Harvey  19.609484  35.119419  41.766914  36.624183   \n",
       "9/4/17   Hurricane Harvey  19.792877  37.045039  44.309625  39.102459   \n",
       "9/5/17   Hurricane Harvey  21.788000  40.332932  48.372301  41.786767   \n",
       "9/6/17   Hurricane Harvey  22.367924  43.852616  51.458772  43.930688   \n",
       "9/7/17   Hurricane Harvey  23.239930  45.437319  54.405985  45.966766   \n",
       "9/8/17   Hurricane Harvey  23.499839  47.619057  57.207507  47.883596   \n",
       "9/9/17   Hurricane Harvey  23.499839  47.793830  59.516414  49.599916   \n",
       "9/10/17  Hurricane Harvey  23.869072  48.292115  61.428897  49.599916   \n",
       "9/11/17  Hurricane Harvey  24.634091  48.818474  63.614430  50.123006   \n",
       "9/12/17  Hurricane Harvey  24.833741  50.271487  66.110063  51.054709   \n",
       "9/13/17  Hurricane Harvey  24.833741  50.763522  68.856807  52.465930   \n",
       "9/14/17  Hurricane Harvey  25.528262  51.785459  70.265692  52.720587   \n",
       "9/15/17  Hurricane Harvey  25.528262  51.785459  71.582610  54.063669   \n",
       "9/16/17  Hurricane Harvey  25.626218  51.887613  72.077987  54.258182   \n",
       "9/17/17  Hurricane Harvey  25.626218  52.477329  72.558271  54.258182   \n",
       "9/18/17  Hurricane Harvey  25.626218  52.477329  75.438271  54.258182   \n",
       "9/19/17  Hurricane Harvey  25.626218  52.477329  75.438271  56.218182   \n",
       "9/20/17  Hurricane Harvey  26.482825  52.477329  76.200861  56.938985   \n",
       "9/21/17  Hurricane Harvey  26.482825  52.868287  77.169690  57.269197   \n",
       "9/22/17  Hurricane Harvey  26.482825  53.459473  77.700019  57.697683   \n",
       "9/23/17  Hurricane Harvey  26.495080  53.459473  77.794395  57.711052   \n",
       "9/24/17  Hurricane Harvey  26.495080  53.459473  77.834395  57.711052   \n",
       "9/25/17  Hurricane Harvey  26.495080  53.459473  77.834395  57.711052   \n",
       "\n",
       "         Total_%  Num_Sentences  \n",
       "Date                             \n",
       "8/24/17   0.2935    1052.810903  \n",
       "8/25/17   2.5566     527.262771  \n",
       "8/26/17   3.6682     271.250204  \n",
       "8/27/17   0.8496    1129.943503  \n",
       "8/28/17   0.8294    2358.331324  \n",
       "8/29/17   0.8802    2593.728698  \n",
       "8/30/17   0.8151    1966.629861  \n",
       "8/31/17   1.1053    1359.811816  \n",
       "9/1/17    1.4161     783.136784  \n",
       "9/2/17    1.9934     351.158824  \n",
       "9/3/17    1.0853     503.086704  \n",
       "9/4/17    0.8631     826.091994  \n",
       "9/5/17    0.5481    2194.854953  \n",
       "9/6/17    0.6741    1384.067646  \n",
       "9/7/17    0.5324    1397.445530  \n",
       "9/8/17    0.5730    1249.563700  \n",
       "9/9/17    0.3076    1365.409623  \n",
       "9/10/17   0.1551    1792.392005  \n",
       "9/11/17   0.2447    1634.654679  \n",
       "9/12/17   0.1832    2772.925764  \n",
       "9/13/17   0.0860    5406.976744  \n",
       "9/14/17   0.1022    3307.240705  \n",
       "9/15/17   0.0305    8721.311475  \n",
       "9/16/17   0.0636    1399.371069  \n",
       "9/17/17   0.0176    6079.545455  \n",
       "9/18/17   0.0171   16842.105263  \n",
       "9/19/17   0.0142   13802.816901  \n",
       "9/20/17   0.0224   10446.428571  \n",
       "9/21/17   0.1085    1557.603687  \n",
       "9/22/17   0.1248    1241.987179  \n",
       "9/23/17   0.0754     159.151194  \n",
       "9/24/17   0.0156     256.410256  \n",
       "9/25/17   0.0470       0.000000  "
      ]
     },
     "execution_count": 168,
     "metadata": {},
     "output_type": "execute_result"
    }
   ],
   "source": [
    "HarveyJoin"
   ]
  },
  {
   "cell_type": "code",
   "execution_count": 169,
   "metadata": {
    "collapsed": true
   },
   "outputs": [],
   "source": [
    "HarveyJoin.to_csv(\"Harvey_cumula.csv\")"
   ]
  },
  {
   "cell_type": "markdown",
   "metadata": {},
   "source": [
    "### Hurricane Irma Joining"
   ]
  },
  {
   "cell_type": "markdown",
   "metadata": {},
   "source": [
    "Same steps as above, but w/ different hurricane and variable names"
   ]
  },
  {
   "cell_type": "code",
   "execution_count": 15,
   "metadata": {
    "collapsed": true
   },
   "outputs": [],
   "source": [
    "IrmaTV = News_Percents[News_Percents['Query'] == 'Hurricane Irma']"
   ]
  },
  {
   "cell_type": "code",
   "execution_count": 16,
   "metadata": {
    "collapsed": false,
    "scrolled": true
   },
   "outputs": [
    {
     "data": {
      "text/plain": [
       "array(['8/31/17', '9/1/17', '9/2/17', '9/3/17', '9/4/17', '9/5/17',\n",
       "       '9/6/17', '9/7/17', '9/8/17', '9/9/17', '9/10/17', '9/11/17',\n",
       "       '9/12/17', '9/13/17', '9/14/17', '9/15/17', '9/16/17', '9/17/17',\n",
       "       '9/18/17', '9/19/17', '9/20/17', '9/21/17', '9/22/17', '9/23/17',\n",
       "       '9/24/17', '9/25/17'], dtype=object)"
      ]
     },
     "execution_count": 16,
     "metadata": {},
     "output_type": "execute_result"
    }
   ],
   "source": [
    "Valid_Dates = IrmaTV.Date.values\n",
    "Valid_Dates"
   ]
  },
  {
   "cell_type": "code",
   "execution_count": 17,
   "metadata": {
    "collapsed": false
   },
   "outputs": [
    {
     "data": {
      "text/html": [
       "<div>\n",
       "<style>\n",
       "    .dataframe thead tr:only-child th {\n",
       "        text-align: right;\n",
       "    }\n",
       "\n",
       "    .dataframe thead th {\n",
       "        text-align: left;\n",
       "    }\n",
       "\n",
       "    .dataframe tbody tr th {\n",
       "        vertical-align: top;\n",
       "    }\n",
       "</style>\n",
       "<table border=\"1\" class=\"dataframe\">\n",
       "  <thead>\n",
       "    <tr style=\"text-align: right;\">\n",
       "      <th></th>\n",
       "      <th>Date</th>\n",
       "      <th>Irma</th>\n",
       "    </tr>\n",
       "  </thead>\n",
       "  <tbody>\n",
       "    <tr>\n",
       "      <th>11</th>\n",
       "      <td>8/31/17</td>\n",
       "      <td>61</td>\n",
       "    </tr>\n",
       "    <tr>\n",
       "      <th>12</th>\n",
       "      <td>9/1/17</td>\n",
       "      <td>66</td>\n",
       "    </tr>\n",
       "    <tr>\n",
       "      <th>13</th>\n",
       "      <td>9/2/17</td>\n",
       "      <td>36</td>\n",
       "    </tr>\n",
       "    <tr>\n",
       "      <th>14</th>\n",
       "      <td>9/3/17</td>\n",
       "      <td>52</td>\n",
       "    </tr>\n",
       "    <tr>\n",
       "      <th>15</th>\n",
       "      <td>9/4/17</td>\n",
       "      <td>221</td>\n",
       "    </tr>\n",
       "  </tbody>\n",
       "</table>\n",
       "</div>"
      ],
      "text/plain": [
       "       Date  Irma\n",
       "11  8/31/17    61\n",
       "12   9/1/17    66\n",
       "13   9/2/17    36\n",
       "14   9/3/17    52\n",
       "15   9/4/17   221"
      ]
     },
     "execution_count": 17,
     "metadata": {},
     "output_type": "execute_result"
    }
   ],
   "source": [
    "IrmaSentence = hurricane_sentences[['Date', 'Irma']]\\\n",
    "[hurricane_sentences.Date.isin(Valid_Dates)]  # Date must exist in list of dates\n",
    "\n",
    "IrmaSentence.head()"
   ]
  },
  {
   "cell_type": "code",
   "execution_count": 18,
   "metadata": {
    "collapsed": false
   },
   "outputs": [],
   "source": [
    "IrmaSentence = IrmaSentence.rename(columns={'Irma':'Num_Sentences'})"
   ]
  },
  {
   "cell_type": "code",
   "execution_count": 19,
   "metadata": {
    "collapsed": false
   },
   "outputs": [],
   "source": [
    "IrmaTV.set_index(['Date'], inplace=True)\n",
    "IrmaSentence.set_index(['Date'], inplace=True)"
   ]
  },
  {
   "cell_type": "code",
   "execution_count": 20,
   "metadata": {
    "collapsed": false
   },
   "outputs": [],
   "source": [
    "join = [IrmaTV, IrmaSentence]\n",
    "IrmaJoin = pd.concat(join, axis=1, join_axes=[IrmaTV.index])"
   ]
  },
  {
   "cell_type": "code",
   "execution_count": 21,
   "metadata": {
    "collapsed": true
   },
   "outputs": [],
   "source": [
    "IrmaJoin.Num_Sentences = IrmaJoin.Num_Sentences / IrmaJoin['Total_%']"
   ]
  },
  {
   "cell_type": "code",
   "execution_count": 22,
   "metadata": {
    "collapsed": false
   },
   "outputs": [],
   "source": [
    "IrmaJoin['BBC News'] = IrmaJoin['BBC News']/100 * IrmaJoin.Num_Sentences\n",
    "IrmaJoin['CNN'] = IrmaJoin['CNN']/100 * IrmaJoin.Num_Sentences\n",
    "IrmaJoin['FOX News'] = IrmaJoin['FOX News']/100 * IrmaJoin.Num_Sentences\n",
    "IrmaJoin['MSNBC'] = IrmaJoin['MSNBC']/100 * IrmaJoin.Num_Sentences"
   ]
  },
  {
   "cell_type": "code",
   "execution_count": 23,
   "metadata": {
    "collapsed": true
   },
   "outputs": [],
   "source": [
    "IrmaJoin['BBC News'] = IrmaJoin['BBC News'].cumsum(axis=0)\n",
    "IrmaJoin['CNN'] = IrmaJoin['CNN'].cumsum(axis=0)\n",
    "IrmaJoin['FOX News'] = IrmaJoin['FOX News'].cumsum(axis=0)\n",
    "IrmaJoin['MSNBC'] = IrmaJoin['MSNBC'].cumsum(axis=0)"
   ]
  },
  {
   "cell_type": "code",
   "execution_count": 24,
   "metadata": {
    "collapsed": false
   },
   "outputs": [
    {
     "data": {
      "text/html": [
       "<div>\n",
       "<style>\n",
       "    .dataframe thead tr:only-child th {\n",
       "        text-align: right;\n",
       "    }\n",
       "\n",
       "    .dataframe thead th {\n",
       "        text-align: left;\n",
       "    }\n",
       "\n",
       "    .dataframe tbody tr th {\n",
       "        vertical-align: top;\n",
       "    }\n",
       "</style>\n",
       "<table border=\"1\" class=\"dataframe\">\n",
       "  <thead>\n",
       "    <tr style=\"text-align: right;\">\n",
       "      <th></th>\n",
       "      <th>Query</th>\n",
       "      <th>BBC News</th>\n",
       "      <th>CNN</th>\n",
       "      <th>FOX News</th>\n",
       "      <th>MSNBC</th>\n",
       "      <th>Total_%</th>\n",
       "      <th>Num_Sentences</th>\n",
       "    </tr>\n",
       "    <tr>\n",
       "      <th>Date</th>\n",
       "      <th></th>\n",
       "      <th></th>\n",
       "      <th></th>\n",
       "      <th></th>\n",
       "      <th></th>\n",
       "      <th></th>\n",
       "      <th></th>\n",
       "    </tr>\n",
       "  </thead>\n",
       "  <tbody>\n",
       "    <tr>\n",
       "      <th>8/31/17</th>\n",
       "      <td>Hurricane Irma</td>\n",
       "      <td>0.000000</td>\n",
       "      <td>0.113488</td>\n",
       "      <td>0.496512</td>\n",
       "      <td>0.000000</td>\n",
       "      <td>0.0387</td>\n",
       "      <td>1576.227390</td>\n",
       "    </tr>\n",
       "    <tr>\n",
       "      <th>9/1/17</th>\n",
       "      <td>Hurricane Irma</td>\n",
       "      <td>0.000000</td>\n",
       "      <td>0.450943</td>\n",
       "      <td>0.774631</td>\n",
       "      <td>0.044426</td>\n",
       "      <td>0.2169</td>\n",
       "      <td>304.287690</td>\n",
       "    </tr>\n",
       "    <tr>\n",
       "      <th>9/2/17</th>\n",
       "      <td>Hurricane Irma</td>\n",
       "      <td>0.000000</td>\n",
       "      <td>0.487566</td>\n",
       "      <td>1.043945</td>\n",
       "      <td>0.098488</td>\n",
       "      <td>0.1445</td>\n",
       "      <td>249.134948</td>\n",
       "    </tr>\n",
       "    <tr>\n",
       "      <th>9/3/17</th>\n",
       "      <td>Hurricane Irma</td>\n",
       "      <td>0.000000</td>\n",
       "      <td>0.524745</td>\n",
       "      <td>1.362191</td>\n",
       "      <td>0.263064</td>\n",
       "      <td>0.1049</td>\n",
       "      <td>495.710200</td>\n",
       "    </tr>\n",
       "    <tr>\n",
       "      <th>9/4/17</th>\n",
       "      <td>Hurricane Irma</td>\n",
       "      <td>0.362502</td>\n",
       "      <td>1.340723</td>\n",
       "      <td>2.113787</td>\n",
       "      <td>0.542988</td>\n",
       "      <td>0.3158</td>\n",
       "      <td>699.810006</td>\n",
       "    </tr>\n",
       "    <tr>\n",
       "      <th>9/5/17</th>\n",
       "      <td>Hurricane Irma</td>\n",
       "      <td>2.827270</td>\n",
       "      <td>3.696512</td>\n",
       "      <td>4.103010</td>\n",
       "      <td>1.663208</td>\n",
       "      <td>1.1206</td>\n",
       "      <td>707.656613</td>\n",
       "    </tr>\n",
       "    <tr>\n",
       "      <th>9/6/17</th>\n",
       "      <td>Hurricane Irma</td>\n",
       "      <td>9.827124</td>\n",
       "      <td>7.900069</td>\n",
       "      <td>7.489057</td>\n",
       "      <td>3.753751</td>\n",
       "      <td>2.7463</td>\n",
       "      <td>607.362633</td>\n",
       "    </tr>\n",
       "    <tr>\n",
       "      <th>9/7/17</th>\n",
       "      <td>Hurricane Irma</td>\n",
       "      <td>17.851622</td>\n",
       "      <td>13.538019</td>\n",
       "      <td>10.890625</td>\n",
       "      <td>6.629734</td>\n",
       "      <td>3.5852</td>\n",
       "      <td>556.175388</td>\n",
       "    </tr>\n",
       "    <tr>\n",
       "      <th>9/8/17</th>\n",
       "      <td>Hurricane Irma</td>\n",
       "      <td>24.475062</td>\n",
       "      <td>19.112651</td>\n",
       "      <td>15.681028</td>\n",
       "      <td>10.131259</td>\n",
       "      <td>4.0968</td>\n",
       "      <td>500.146456</td>\n",
       "    </tr>\n",
       "    <tr>\n",
       "      <th>9/9/17</th>\n",
       "      <td>Hurricane Irma</td>\n",
       "      <td>28.453726</td>\n",
       "      <td>22.607745</td>\n",
       "      <td>19.786107</td>\n",
       "      <td>14.502421</td>\n",
       "      <td>4.6936</td>\n",
       "      <td>339.824442</td>\n",
       "    </tr>\n",
       "    <tr>\n",
       "      <th>9/10/17</th>\n",
       "      <td>Hurricane Irma</td>\n",
       "      <td>40.395201</td>\n",
       "      <td>28.622142</td>\n",
       "      <td>25.275774</td>\n",
       "      <td>16.496883</td>\n",
       "      <td>3.1174</td>\n",
       "      <td>816.064669</td>\n",
       "    </tr>\n",
       "    <tr>\n",
       "      <th>9/11/17</th>\n",
       "      <td>Hurricane Irma</td>\n",
       "      <td>48.485342</td>\n",
       "      <td>33.587194</td>\n",
       "      <td>31.567279</td>\n",
       "      <td>21.310185</td>\n",
       "      <td>3.5663</td>\n",
       "      <td>677.452822</td>\n",
       "    </tr>\n",
       "    <tr>\n",
       "      <th>9/12/17</th>\n",
       "      <td>Hurricane Irma</td>\n",
       "      <td>52.319584</td>\n",
       "      <td>36.964706</td>\n",
       "      <td>35.362127</td>\n",
       "      <td>24.183583</td>\n",
       "      <td>2.4312</td>\n",
       "      <td>570.911484</td>\n",
       "    </tr>\n",
       "    <tr>\n",
       "      <th>9/13/17</th>\n",
       "      <td>Hurricane Irma</td>\n",
       "      <td>56.024317</td>\n",
       "      <td>40.542110</td>\n",
       "      <td>37.132515</td>\n",
       "      <td>25.701058</td>\n",
       "      <td>1.2120</td>\n",
       "      <td>872.112211</td>\n",
       "    </tr>\n",
       "    <tr>\n",
       "      <th>9/14/17</th>\n",
       "      <td>Hurricane Irma</td>\n",
       "      <td>58.435363</td>\n",
       "      <td>42.820910</td>\n",
       "      <td>39.302566</td>\n",
       "      <td>27.801160</td>\n",
       "      <td>1.6396</td>\n",
       "      <td>546.474750</td>\n",
       "    </tr>\n",
       "    <tr>\n",
       "      <th>9/15/17</th>\n",
       "      <td>Hurricane Irma</td>\n",
       "      <td>58.955731</td>\n",
       "      <td>44.325992</td>\n",
       "      <td>40.243709</td>\n",
       "      <td>29.714568</td>\n",
       "      <td>0.3920</td>\n",
       "      <td>1244.897959</td>\n",
       "    </tr>\n",
       "    <tr>\n",
       "      <th>9/16/17</th>\n",
       "      <td>Hurricane Irma</td>\n",
       "      <td>59.385275</td>\n",
       "      <td>45.165066</td>\n",
       "      <td>41.440737</td>\n",
       "      <td>30.408922</td>\n",
       "      <td>0.4105</td>\n",
       "      <td>769.792935</td>\n",
       "    </tr>\n",
       "    <tr>\n",
       "      <th>9/17/17</th>\n",
       "      <td>Hurricane Irma</td>\n",
       "      <td>59.530723</td>\n",
       "      <td>46.014977</td>\n",
       "      <td>41.972320</td>\n",
       "      <td>31.321981</td>\n",
       "      <td>0.4714</td>\n",
       "      <td>517.607128</td>\n",
       "    </tr>\n",
       "    <tr>\n",
       "      <th>9/18/17</th>\n",
       "      <td>Hurricane Irma</td>\n",
       "      <td>60.533334</td>\n",
       "      <td>46.989389</td>\n",
       "      <td>42.952477</td>\n",
       "      <td>31.964801</td>\n",
       "      <td>0.6894</td>\n",
       "      <td>522.193211</td>\n",
       "    </tr>\n",
       "    <tr>\n",
       "      <th>9/19/17</th>\n",
       "      <td>Hurricane Irma</td>\n",
       "      <td>64.050039</td>\n",
       "      <td>47.998780</td>\n",
       "      <td>43.551940</td>\n",
       "      <td>32.589242</td>\n",
       "      <td>0.7827</td>\n",
       "      <td>734.636515</td>\n",
       "    </tr>\n",
       "    <tr>\n",
       "      <th>9/20/17</th>\n",
       "      <td>Hurricane Irma</td>\n",
       "      <td>64.863735</td>\n",
       "      <td>48.864666</td>\n",
       "      <td>44.380819</td>\n",
       "      <td>33.080780</td>\n",
       "      <td>0.6323</td>\n",
       "      <td>474.458327</td>\n",
       "    </tr>\n",
       "    <tr>\n",
       "      <th>9/21/17</th>\n",
       "      <td>Hurricane Irma</td>\n",
       "      <td>65.509572</td>\n",
       "      <td>49.820799</td>\n",
       "      <td>45.168366</td>\n",
       "      <td>33.311262</td>\n",
       "      <td>0.3217</td>\n",
       "      <td>814.423376</td>\n",
       "    </tr>\n",
       "    <tr>\n",
       "      <th>9/22/17</th>\n",
       "      <td>Hurricane Irma</td>\n",
       "      <td>65.742584</td>\n",
       "      <td>50.203260</td>\n",
       "      <td>45.970249</td>\n",
       "      <td>33.643907</td>\n",
       "      <td>0.1089</td>\n",
       "      <td>1606.978880</td>\n",
       "    </tr>\n",
       "    <tr>\n",
       "      <th>9/23/17</th>\n",
       "      <td>Hurricane Irma</td>\n",
       "      <td>65.759179</td>\n",
       "      <td>50.213650</td>\n",
       "      <td>45.975010</td>\n",
       "      <td>33.662161</td>\n",
       "      <td>0.0693</td>\n",
       "      <td>72.150072</td>\n",
       "    </tr>\n",
       "    <tr>\n",
       "      <th>9/24/17</th>\n",
       "      <td>Hurricane Irma</td>\n",
       "      <td>NaN</td>\n",
       "      <td>NaN</td>\n",
       "      <td>NaN</td>\n",
       "      <td>NaN</td>\n",
       "      <td>0.0000</td>\n",
       "      <td>inf</td>\n",
       "    </tr>\n",
       "    <tr>\n",
       "      <th>9/25/17</th>\n",
       "      <td>Hurricane Irma</td>\n",
       "      <td>65.759179</td>\n",
       "      <td>50.213650</td>\n",
       "      <td>45.975010</td>\n",
       "      <td>33.662161</td>\n",
       "      <td>0.0441</td>\n",
       "      <td>0.000000</td>\n",
       "    </tr>\n",
       "  </tbody>\n",
       "</table>\n",
       "</div>"
      ],
      "text/plain": [
       "                  Query   BBC News        CNN   FOX News      MSNBC  Total_%  \\\n",
       "Date                                                                           \n",
       "8/31/17  Hurricane Irma   0.000000   0.113488   0.496512   0.000000   0.0387   \n",
       "9/1/17   Hurricane Irma   0.000000   0.450943   0.774631   0.044426   0.2169   \n",
       "9/2/17   Hurricane Irma   0.000000   0.487566   1.043945   0.098488   0.1445   \n",
       "9/3/17   Hurricane Irma   0.000000   0.524745   1.362191   0.263064   0.1049   \n",
       "9/4/17   Hurricane Irma   0.362502   1.340723   2.113787   0.542988   0.3158   \n",
       "9/5/17   Hurricane Irma   2.827270   3.696512   4.103010   1.663208   1.1206   \n",
       "9/6/17   Hurricane Irma   9.827124   7.900069   7.489057   3.753751   2.7463   \n",
       "9/7/17   Hurricane Irma  17.851622  13.538019  10.890625   6.629734   3.5852   \n",
       "9/8/17   Hurricane Irma  24.475062  19.112651  15.681028  10.131259   4.0968   \n",
       "9/9/17   Hurricane Irma  28.453726  22.607745  19.786107  14.502421   4.6936   \n",
       "9/10/17  Hurricane Irma  40.395201  28.622142  25.275774  16.496883   3.1174   \n",
       "9/11/17  Hurricane Irma  48.485342  33.587194  31.567279  21.310185   3.5663   \n",
       "9/12/17  Hurricane Irma  52.319584  36.964706  35.362127  24.183583   2.4312   \n",
       "9/13/17  Hurricane Irma  56.024317  40.542110  37.132515  25.701058   1.2120   \n",
       "9/14/17  Hurricane Irma  58.435363  42.820910  39.302566  27.801160   1.6396   \n",
       "9/15/17  Hurricane Irma  58.955731  44.325992  40.243709  29.714568   0.3920   \n",
       "9/16/17  Hurricane Irma  59.385275  45.165066  41.440737  30.408922   0.4105   \n",
       "9/17/17  Hurricane Irma  59.530723  46.014977  41.972320  31.321981   0.4714   \n",
       "9/18/17  Hurricane Irma  60.533334  46.989389  42.952477  31.964801   0.6894   \n",
       "9/19/17  Hurricane Irma  64.050039  47.998780  43.551940  32.589242   0.7827   \n",
       "9/20/17  Hurricane Irma  64.863735  48.864666  44.380819  33.080780   0.6323   \n",
       "9/21/17  Hurricane Irma  65.509572  49.820799  45.168366  33.311262   0.3217   \n",
       "9/22/17  Hurricane Irma  65.742584  50.203260  45.970249  33.643907   0.1089   \n",
       "9/23/17  Hurricane Irma  65.759179  50.213650  45.975010  33.662161   0.0693   \n",
       "9/24/17  Hurricane Irma        NaN        NaN        NaN        NaN   0.0000   \n",
       "9/25/17  Hurricane Irma  65.759179  50.213650  45.975010  33.662161   0.0441   \n",
       "\n",
       "         Num_Sentences  \n",
       "Date                    \n",
       "8/31/17    1576.227390  \n",
       "9/1/17      304.287690  \n",
       "9/2/17      249.134948  \n",
       "9/3/17      495.710200  \n",
       "9/4/17      699.810006  \n",
       "9/5/17      707.656613  \n",
       "9/6/17      607.362633  \n",
       "9/7/17      556.175388  \n",
       "9/8/17      500.146456  \n",
       "9/9/17      339.824442  \n",
       "9/10/17     816.064669  \n",
       "9/11/17     677.452822  \n",
       "9/12/17     570.911484  \n",
       "9/13/17     872.112211  \n",
       "9/14/17     546.474750  \n",
       "9/15/17    1244.897959  \n",
       "9/16/17     769.792935  \n",
       "9/17/17     517.607128  \n",
       "9/18/17     522.193211  \n",
       "9/19/17     734.636515  \n",
       "9/20/17     474.458327  \n",
       "9/21/17     814.423376  \n",
       "9/22/17    1606.978880  \n",
       "9/23/17      72.150072  \n",
       "9/24/17            inf  \n",
       "9/25/17       0.000000  "
      ]
     },
     "execution_count": 24,
     "metadata": {},
     "output_type": "execute_result"
    }
   ],
   "source": [
    "IrmaJoin"
   ]
  },
  {
   "cell_type": "code",
   "execution_count": 25,
   "metadata": {
    "collapsed": true
   },
   "outputs": [],
   "source": [
    "IrmaJoin.to_csv(\"Irma_cumula.csv\")"
   ]
  },
  {
   "cell_type": "markdown",
   "metadata": {},
   "source": [
    "### Hurricane Maria Joining"
   ]
  },
  {
   "cell_type": "code",
   "execution_count": 28,
   "metadata": {
    "collapsed": true
   },
   "outputs": [],
   "source": [
    "MariaTV = News_Percents[News_Percents['Query'] == 'Hurricane Maria']"
   ]
  },
  {
   "cell_type": "code",
   "execution_count": 29,
   "metadata": {
    "collapsed": false,
    "scrolled": true
   },
   "outputs": [
    {
     "data": {
      "text/plain": [
       "array(['9/17/17', '9/18/17', '9/19/17', '9/20/17', '9/21/17', '9/22/17',\n",
       "       '9/23/17', '9/24/17', '9/25/17'], dtype=object)"
      ]
     },
     "execution_count": 29,
     "metadata": {},
     "output_type": "execute_result"
    }
   ],
   "source": [
    "Valid_Dates = MariaTV.Date.values\n",
    "Valid_Dates"
   ]
  },
  {
   "cell_type": "code",
   "execution_count": 30,
   "metadata": {
    "collapsed": false
   },
   "outputs": [
    {
     "data": {
      "text/html": [
       "<div>\n",
       "<style>\n",
       "    .dataframe thead tr:only-child th {\n",
       "        text-align: right;\n",
       "    }\n",
       "\n",
       "    .dataframe thead th {\n",
       "        text-align: left;\n",
       "    }\n",
       "\n",
       "    .dataframe tbody tr th {\n",
       "        vertical-align: top;\n",
       "    }\n",
       "</style>\n",
       "<table border=\"1\" class=\"dataframe\">\n",
       "  <thead>\n",
       "    <tr style=\"text-align: right;\">\n",
       "      <th></th>\n",
       "      <th>Date</th>\n",
       "      <th>Maria</th>\n",
       "    </tr>\n",
       "  </thead>\n",
       "  <tbody>\n",
       "    <tr>\n",
       "      <th>28</th>\n",
       "      <td>9/17/17</td>\n",
       "      <td>41</td>\n",
       "    </tr>\n",
       "    <tr>\n",
       "      <th>29</th>\n",
       "      <td>9/18/17</td>\n",
       "      <td>304</td>\n",
       "    </tr>\n",
       "    <tr>\n",
       "      <th>30</th>\n",
       "      <td>9/19/17</td>\n",
       "      <td>518</td>\n",
       "    </tr>\n",
       "    <tr>\n",
       "      <th>31</th>\n",
       "      <td>9/20/17</td>\n",
       "      <td>545</td>\n",
       "    </tr>\n",
       "    <tr>\n",
       "      <th>32</th>\n",
       "      <td>9/21/17</td>\n",
       "      <td>528</td>\n",
       "    </tr>\n",
       "  </tbody>\n",
       "</table>\n",
       "</div>"
      ],
      "text/plain": [
       "       Date  Maria\n",
       "28  9/17/17     41\n",
       "29  9/18/17    304\n",
       "30  9/19/17    518\n",
       "31  9/20/17    545\n",
       "32  9/21/17    528"
      ]
     },
     "execution_count": 30,
     "metadata": {},
     "output_type": "execute_result"
    }
   ],
   "source": [
    "MariaSentence = hurricane_sentences[['Date', 'Maria']]\\\n",
    "[hurricane_sentences.Date.isin(Valid_Dates)]  # Date must exist in list of dates\n",
    "\n",
    "MariaSentence.head()"
   ]
  },
  {
   "cell_type": "code",
   "execution_count": 31,
   "metadata": {
    "collapsed": false
   },
   "outputs": [],
   "source": [
    "MariaSentence = MariaSentence.rename(columns={'Maria':'Num_Sentences'})"
   ]
  },
  {
   "cell_type": "code",
   "execution_count": 32,
   "metadata": {
    "collapsed": false
   },
   "outputs": [],
   "source": [
    "MariaTV.set_index(['Date'], inplace=True)\n",
    "MariaSentence.set_index(['Date'], inplace=True)"
   ]
  },
  {
   "cell_type": "code",
   "execution_count": 33,
   "metadata": {
    "collapsed": false
   },
   "outputs": [],
   "source": [
    "join = [MariaTV, MariaSentence]\n",
    "MariaJoin = pd.concat(join, axis=1, join_axes=[MariaTV.index])"
   ]
  },
  {
   "cell_type": "code",
   "execution_count": 34,
   "metadata": {
    "collapsed": true
   },
   "outputs": [],
   "source": [
    "MariaJoin.Num_Sentences = MariaJoin.Num_Sentences / MariaJoin['Total_%']"
   ]
  },
  {
   "cell_type": "code",
   "execution_count": 35,
   "metadata": {
    "collapsed": false
   },
   "outputs": [],
   "source": [
    "MariaJoin['BBC News'] = MariaJoin['BBC News']/100 * MariaJoin.Num_Sentences\n",
    "MariaJoin['CNN'] = MariaJoin['CNN']/100 * MariaJoin.Num_Sentences\n",
    "MariaJoin['FOX News'] = MariaJoin['FOX News']/100 * MariaJoin.Num_Sentences\n",
    "MariaJoin['MSNBC'] = MariaJoin['MSNBC']/100 * MariaJoin.Num_Sentences"
   ]
  },
  {
   "cell_type": "code",
   "execution_count": 36,
   "metadata": {
    "collapsed": true
   },
   "outputs": [],
   "source": [
    "MariaJoin['BBC News'] = MariaJoin['BBC News'].cumsum(axis=0)\n",
    "MariaJoin['CNN'] = MariaJoin['CNN'].cumsum(axis=0)\n",
    "MariaJoin['FOX News'] = MariaJoin['FOX News'].cumsum(axis=0)\n",
    "MariaJoin['MSNBC'] = MariaJoin['MSNBC'].cumsum(axis=0)"
   ]
  },
  {
   "cell_type": "code",
   "execution_count": 37,
   "metadata": {
    "collapsed": false
   },
   "outputs": [
    {
     "data": {
      "text/html": [
       "<div>\n",
       "<style>\n",
       "    .dataframe thead tr:only-child th {\n",
       "        text-align: right;\n",
       "    }\n",
       "\n",
       "    .dataframe thead th {\n",
       "        text-align: left;\n",
       "    }\n",
       "\n",
       "    .dataframe tbody tr th {\n",
       "        vertical-align: top;\n",
       "    }\n",
       "</style>\n",
       "<table border=\"1\" class=\"dataframe\">\n",
       "  <thead>\n",
       "    <tr style=\"text-align: right;\">\n",
       "      <th></th>\n",
       "      <th>Query</th>\n",
       "      <th>BBC News</th>\n",
       "      <th>CNN</th>\n",
       "      <th>FOX News</th>\n",
       "      <th>MSNBC</th>\n",
       "      <th>Total_%</th>\n",
       "      <th>Num_Sentences</th>\n",
       "    </tr>\n",
       "    <tr>\n",
       "      <th>Date</th>\n",
       "      <th></th>\n",
       "      <th></th>\n",
       "      <th></th>\n",
       "      <th></th>\n",
       "      <th></th>\n",
       "      <th></th>\n",
       "      <th></th>\n",
       "    </tr>\n",
       "  </thead>\n",
       "  <tbody>\n",
       "    <tr>\n",
       "      <th>9/17/17</th>\n",
       "      <td>Hurricane Maria</td>\n",
       "      <td>0.000000</td>\n",
       "      <td>0.206066</td>\n",
       "      <td>0.056135</td>\n",
       "      <td>0.147799</td>\n",
       "      <td>0.0577</td>\n",
       "      <td>710.571924</td>\n",
       "    </tr>\n",
       "    <tr>\n",
       "      <th>9/18/17</th>\n",
       "      <td>Hurricane Maria</td>\n",
       "      <td>1.043639</td>\n",
       "      <td>1.089655</td>\n",
       "      <td>0.944933</td>\n",
       "      <td>0.371774</td>\n",
       "      <td>0.6420</td>\n",
       "      <td>473.520249</td>\n",
       "    </tr>\n",
       "    <tr>\n",
       "      <th>9/19/17</th>\n",
       "      <td>Hurricane Maria</td>\n",
       "      <td>3.455228</td>\n",
       "      <td>2.665953</td>\n",
       "      <td>1.426925</td>\n",
       "      <td>1.081894</td>\n",
       "      <td>1.9119</td>\n",
       "      <td>270.934672</td>\n",
       "    </tr>\n",
       "    <tr>\n",
       "      <th>9/20/17</th>\n",
       "      <td>Hurricane Maria</td>\n",
       "      <td>5.372343</td>\n",
       "      <td>4.215362</td>\n",
       "      <td>2.472219</td>\n",
       "      <td>2.020077</td>\n",
       "      <td>2.8087</td>\n",
       "      <td>194.039947</td>\n",
       "    </tr>\n",
       "    <tr>\n",
       "      <th>9/21/17</th>\n",
       "      <td>Hurricane Maria</td>\n",
       "      <td>6.867709</td>\n",
       "      <td>6.244607</td>\n",
       "      <td>3.471121</td>\n",
       "      <td>2.776564</td>\n",
       "      <td>1.6793</td>\n",
       "      <td>314.416721</td>\n",
       "    </tr>\n",
       "    <tr>\n",
       "      <th>9/22/17</th>\n",
       "      <td>Hurricane Maria</td>\n",
       "      <td>8.158574</td>\n",
       "      <td>7.543421</td>\n",
       "      <td>4.037306</td>\n",
       "      <td>3.710699</td>\n",
       "      <td>0.8748</td>\n",
       "      <td>467.535437</td>\n",
       "    </tr>\n",
       "    <tr>\n",
       "      <th>9/23/17</th>\n",
       "      <td>Hurricane Maria</td>\n",
       "      <td>8.164530</td>\n",
       "      <td>7.545573</td>\n",
       "      <td>4.038191</td>\n",
       "      <td>3.711706</td>\n",
       "      <td>0.6699</td>\n",
       "      <td>1.492760</td>\n",
       "    </tr>\n",
       "    <tr>\n",
       "      <th>9/24/17</th>\n",
       "      <td>Hurricane Maria</td>\n",
       "      <td>8.164530</td>\n",
       "      <td>7.545573</td>\n",
       "      <td>4.038191</td>\n",
       "      <td>3.711706</td>\n",
       "      <td>0.1905</td>\n",
       "      <td>0.000000</td>\n",
       "    </tr>\n",
       "    <tr>\n",
       "      <th>9/25/17</th>\n",
       "      <td>Hurricane Maria</td>\n",
       "      <td>8.164530</td>\n",
       "      <td>7.545573</td>\n",
       "      <td>4.038191</td>\n",
       "      <td>3.711706</td>\n",
       "      <td>0.5060</td>\n",
       "      <td>0.000000</td>\n",
       "    </tr>\n",
       "  </tbody>\n",
       "</table>\n",
       "</div>"
      ],
      "text/plain": [
       "                   Query  BBC News       CNN  FOX News     MSNBC  Total_%  \\\n",
       "Date                                                                        \n",
       "9/17/17  Hurricane Maria  0.000000  0.206066  0.056135  0.147799   0.0577   \n",
       "9/18/17  Hurricane Maria  1.043639  1.089655  0.944933  0.371774   0.6420   \n",
       "9/19/17  Hurricane Maria  3.455228  2.665953  1.426925  1.081894   1.9119   \n",
       "9/20/17  Hurricane Maria  5.372343  4.215362  2.472219  2.020077   2.8087   \n",
       "9/21/17  Hurricane Maria  6.867709  6.244607  3.471121  2.776564   1.6793   \n",
       "9/22/17  Hurricane Maria  8.158574  7.543421  4.037306  3.710699   0.8748   \n",
       "9/23/17  Hurricane Maria  8.164530  7.545573  4.038191  3.711706   0.6699   \n",
       "9/24/17  Hurricane Maria  8.164530  7.545573  4.038191  3.711706   0.1905   \n",
       "9/25/17  Hurricane Maria  8.164530  7.545573  4.038191  3.711706   0.5060   \n",
       "\n",
       "         Num_Sentences  \n",
       "Date                    \n",
       "9/17/17     710.571924  \n",
       "9/18/17     473.520249  \n",
       "9/19/17     270.934672  \n",
       "9/20/17     194.039947  \n",
       "9/21/17     314.416721  \n",
       "9/22/17     467.535437  \n",
       "9/23/17       1.492760  \n",
       "9/24/17       0.000000  \n",
       "9/25/17       0.000000  "
      ]
     },
     "execution_count": 37,
     "metadata": {},
     "output_type": "execute_result"
    }
   ],
   "source": [
    "MariaJoin"
   ]
  },
  {
   "cell_type": "code",
   "execution_count": 38,
   "metadata": {
    "collapsed": true
   },
   "outputs": [],
   "source": [
    "MariaJoin.to_csv(\"Maria_cumula.csv\")"
   ]
  }
 ],
 "metadata": {
  "kernelspec": {
   "display_name": "Python 3",
   "language": "python",
   "name": "python3"
  },
  "language_info": {
   "codemirror_mode": {
    "name": "ipython",
    "version": 3
   },
   "file_extension": ".py",
   "mimetype": "text/x-python",
   "name": "python",
   "nbconvert_exporter": "python",
   "pygments_lexer": "ipython3",
   "version": "3.6.1"
  }
 },
 "nbformat": 4,
 "nbformat_minor": 1
}
