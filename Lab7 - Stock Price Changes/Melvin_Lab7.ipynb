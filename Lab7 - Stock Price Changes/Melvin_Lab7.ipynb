{
 "cells": [
  {
   "cell_type": "markdown",
   "metadata": {},
   "source": [
    "# Claim to support / refute:"
   ]
  },
  {
   "cell_type": "markdown",
   "metadata": {},
   "source": [
    "#### - “The   financial   markets   do   not   punish   security   breaches.”\n",
    "\n",
    "Data from: https://www.gracefulsecurity.com/data-breaches-and-stock-prices/  \n",
    "(using table only)"
   ]
  },
  {
   "cell_type": "markdown",
   "metadata": {},
   "source": [
    "## Organizing & Cleaning the Data"
   ]
  },
  {
   "cell_type": "code",
   "execution_count": 1,
   "metadata": {
    "collapsed": false
   },
   "outputs": [],
   "source": [
    "# Imports\n",
    "\n",
    "import numpy as np\n",
    "import pandas as pd\n",
    "import pdfquery as pdf"
   ]
  },
  {
   "cell_type": "code",
   "execution_count": 2,
   "metadata": {
    "collapsed": true
   },
   "outputs": [],
   "source": [
    "# List of breached companies, their stock tickers, and dates of breach disclosure\n",
    "Link = pdf.PDFQuery(\"Data Breaches and Stock Prices — GracefulSecurity.pdf\")\n",
    "Link.load()"
   ]
  },
  {
   "cell_type": "markdown",
   "metadata": {},
   "source": [
    "### Company names:"
   ]
  },
  {
   "cell_type": "code",
   "execution_count": 92,
   "metadata": {
    "collapsed": false
   },
   "outputs": [
    {
     "data": {
      "text/plain": [
       "['Sony',\n",
       " 'Sony',\n",
       " 'Terracom',\n",
       " 'Adobe',\n",
       " 'Target',\n",
       " 'Ebay',\n",
       " 'Home',\n",
       " 'Home',\n",
       " 'Google',\n",
       " 'Sony',\n",
       " 'Sony',\n",
       " 'Premera',\n",
       " 'Anthem',\n",
       " 'Experian',\n",
       " 'TalkTalk',\n",
       " 'Juniper']"
      ]
     },
     "execution_count": 92,
     "metadata": {},
     "output_type": "execute_result"
    }
   ],
   "source": [
    "Link_Data = Link.extract([\n",
    "        # ('with_parent','LTPage[page_index=\"0\"]'), # PAGE Specifier if multiple pages in PDF\n",
    "        ('with_formatter', 'text'),\n",
    "        ('Company', ':in_bbox(\"30, 447, 90, 760\")')])\n",
    "DataDump = Link_Data['Company'].split(' ')\n",
    "DataDump[1::2]"
   ]
  },
  {
   "cell_type": "code",
   "execution_count": 93,
   "metadata": {
    "collapsed": false
   },
   "outputs": [],
   "source": [
    "DataDump = DataDump[1::2].copy()\n",
    "\n",
    "del DataDump[1] # Duplicate Sony\n",
    "del DataDump[5] # Duplicate Home Depot\n",
    "del DataDump[7] # Duplicate Sony"
   ]
  },
  {
   "cell_type": "code",
   "execution_count": 94,
   "metadata": {
    "collapsed": false,
    "scrolled": true
   },
   "outputs": [
    {
     "data": {
      "text/plain": [
       "['Sony',\n",
       " 'Terracom',\n",
       " 'Adobe',\n",
       " 'Target',\n",
       " 'Ebay',\n",
       " 'Home',\n",
       " 'Google',\n",
       " 'Sony',\n",
       " 'Premera',\n",
       " 'Anthem',\n",
       " 'Experian',\n",
       " 'TalkTalk',\n",
       " 'Juniper']"
      ]
     },
     "execution_count": 94,
     "metadata": {},
     "output_type": "execute_result"
    }
   ],
   "source": [
    "DataDump"
   ]
  },
  {
   "cell_type": "markdown",
   "metadata": {},
   "source": [
    "Name fixes:"
   ]
  },
  {
   "cell_type": "code",
   "execution_count": 95,
   "metadata": {
    "collapsed": true
   },
   "outputs": [],
   "source": [
    "DataDump[5] = 'Home Depot'"
   ]
  },
  {
   "cell_type": "code",
   "execution_count": 96,
   "metadata": {
    "collapsed": false
   },
   "outputs": [
    {
     "data": {
      "text/plain": [
       "['Sony',\n",
       " 'Terracom',\n",
       " 'Adobe',\n",
       " 'Target',\n",
       " 'Ebay',\n",
       " 'Home Depot',\n",
       " 'Google',\n",
       " 'Sony',\n",
       " 'Premera',\n",
       " 'Anthem',\n",
       " 'Experian',\n",
       " 'TalkTalk',\n",
       " 'Juniper']"
      ]
     },
     "execution_count": 96,
     "metadata": {},
     "output_type": "execute_result"
    }
   ],
   "source": [
    "DataDump"
   ]
  },
  {
   "cell_type": "code",
   "execution_count": 97,
   "metadata": {
    "collapsed": false
   },
   "outputs": [],
   "source": [
    "Companies = pd.Series(DataDump)  # To put into dataframe later"
   ]
  },
  {
   "cell_type": "markdown",
   "metadata": {},
   "source": [
    "### Stock Tickers:"
   ]
  },
  {
   "cell_type": "code",
   "execution_count": 98,
   "metadata": {
    "collapsed": false
   },
   "outputs": [
    {
     "data": {
      "text/plain": [
       "['SNE',\n",
       " 'TER.AX',\n",
       " 'ADBE',\n",
       " 'TGT',\n",
       " 'EBAY',\n",
       " 'HD',\n",
       " 'GOOG',\n",
       " 'SNE',\n",
       " 'ESRX',\n",
       " 'ANTM',\n",
       " 'EXPN.L',\n",
       " 'TALK.L',\n",
       " 'JNPR']"
      ]
     },
     "execution_count": 98,
     "metadata": {},
     "output_type": "execute_result"
    }
   ],
   "source": [
    "Link_Data = Link.extract([\n",
    "        # ('with_parent','LTPage[page_index=\"0\"]'), # PAGE Specifier if multiple pages in PDF\n",
    "        ('with_formatter', 'text'),\n",
    "        ('Company', ':in_bbox(\"92, 447, 140, 760\")')])\n",
    "DataDump = Link_Data['Company'].split(' ')\n",
    "DataDump[1::2]"
   ]
  },
  {
   "cell_type": "code",
   "execution_count": 99,
   "metadata": {
    "collapsed": true
   },
   "outputs": [],
   "source": [
    "Tickers = pd.Series(DataDump[1::2])"
   ]
  },
  {
   "cell_type": "markdown",
   "metadata": {},
   "source": [
    "### Disclosure Dates:"
   ]
  },
  {
   "cell_type": "code",
   "execution_count": 106,
   "metadata": {
    "collapsed": false
   },
   "outputs": [
    {
     "data": {
      "text/plain": [
       "['31-May-11',\n",
       " '23-May-13',\n",
       " '03-Oct-13',\n",
       " '01-Jan-14',\n",
       " '21-Mar-14',\n",
       " '02-Sep-14',\n",
       " '10-Sep-14',\n",
       " '08-Dec-14',\n",
       " '29-Jan-15',\n",
       " '04-Feb-15',\n",
       " '01-Oct-15',\n",
       " '06-Nov-15',\n",
       " '17-Dec-15']"
      ]
     },
     "execution_count": 106,
     "metadata": {},
     "output_type": "execute_result"
    }
   ],
   "source": [
    "Link_Data = Link.extract([\n",
    "        # ('with_parent','LTPage[page_index=\"0\"]'), # PAGE Specifier if multiple pages in PDF\n",
    "        ('with_formatter', 'text'),\n",
    "        ('Company', ':in_bbox(\"147, 447, 200, 760\")')])\n",
    "DataDump = Link_Data['Company'].split(' ')\n",
    "DataDump[1::2]"
   ]
  },
  {
   "cell_type": "code",
   "execution_count": 107,
   "metadata": {
    "collapsed": true
   },
   "outputs": [],
   "source": [
    "Dates = pd.Series(DataDump[1::2])"
   ]
  },
  {
   "cell_type": "markdown",
   "metadata": {},
   "source": [
    "### Creating DataFrame:"
   ]
  },
  {
   "cell_type": "code",
   "execution_count": 115,
   "metadata": {
    "collapsed": false
   },
   "outputs": [],
   "source": [
    "df = pd.DataFrame(data=[Companies,Tickers,Dates],\\\n",
    "                  copy=True)"
   ]
  },
  {
   "cell_type": "code",
   "execution_count": 119,
   "metadata": {
    "collapsed": false,
    "scrolled": true
   },
   "outputs": [],
   "source": [
    "df = df.T"
   ]
  },
  {
   "cell_type": "code",
   "execution_count": 121,
   "metadata": {
    "collapsed": false
   },
   "outputs": [],
   "source": [
    "df.columns = ['Company Name', 'Stock Code', 'Disclosure Date']"
   ]
  },
  {
   "cell_type": "code",
   "execution_count": 122,
   "metadata": {
    "collapsed": false
   },
   "outputs": [
    {
     "data": {
      "text/html": [
       "<div>\n",
       "<style>\n",
       "    .dataframe thead tr:only-child th {\n",
       "        text-align: right;\n",
       "    }\n",
       "\n",
       "    .dataframe thead th {\n",
       "        text-align: left;\n",
       "    }\n",
       "\n",
       "    .dataframe tbody tr th {\n",
       "        vertical-align: top;\n",
       "    }\n",
       "</style>\n",
       "<table border=\"1\" class=\"dataframe\">\n",
       "  <thead>\n",
       "    <tr style=\"text-align: right;\">\n",
       "      <th></th>\n",
       "      <th>Company Name</th>\n",
       "      <th>Stock Code</th>\n",
       "      <th>Disclosure Date</th>\n",
       "    </tr>\n",
       "  </thead>\n",
       "  <tbody>\n",
       "    <tr>\n",
       "      <th>0</th>\n",
       "      <td>Sony</td>\n",
       "      <td>SNE</td>\n",
       "      <td>31-May-11</td>\n",
       "    </tr>\n",
       "    <tr>\n",
       "      <th>1</th>\n",
       "      <td>Terracom</td>\n",
       "      <td>TER.AX</td>\n",
       "      <td>23-May-13</td>\n",
       "    </tr>\n",
       "    <tr>\n",
       "      <th>2</th>\n",
       "      <td>Adobe</td>\n",
       "      <td>ADBE</td>\n",
       "      <td>03-Oct-13</td>\n",
       "    </tr>\n",
       "    <tr>\n",
       "      <th>3</th>\n",
       "      <td>Target</td>\n",
       "      <td>TGT</td>\n",
       "      <td>01-Jan-14</td>\n",
       "    </tr>\n",
       "    <tr>\n",
       "      <th>4</th>\n",
       "      <td>Ebay</td>\n",
       "      <td>EBAY</td>\n",
       "      <td>21-Mar-14</td>\n",
       "    </tr>\n",
       "    <tr>\n",
       "      <th>5</th>\n",
       "      <td>Home Depot</td>\n",
       "      <td>HD</td>\n",
       "      <td>02-Sep-14</td>\n",
       "    </tr>\n",
       "    <tr>\n",
       "      <th>6</th>\n",
       "      <td>Google</td>\n",
       "      <td>GOOG</td>\n",
       "      <td>10-Sep-14</td>\n",
       "    </tr>\n",
       "    <tr>\n",
       "      <th>7</th>\n",
       "      <td>Sony</td>\n",
       "      <td>SNE</td>\n",
       "      <td>08-Dec-14</td>\n",
       "    </tr>\n",
       "    <tr>\n",
       "      <th>8</th>\n",
       "      <td>Premera</td>\n",
       "      <td>ESRX</td>\n",
       "      <td>29-Jan-15</td>\n",
       "    </tr>\n",
       "    <tr>\n",
       "      <th>9</th>\n",
       "      <td>Anthem</td>\n",
       "      <td>ANTM</td>\n",
       "      <td>04-Feb-15</td>\n",
       "    </tr>\n",
       "    <tr>\n",
       "      <th>10</th>\n",
       "      <td>Experian</td>\n",
       "      <td>EXPN.L</td>\n",
       "      <td>01-Oct-15</td>\n",
       "    </tr>\n",
       "    <tr>\n",
       "      <th>11</th>\n",
       "      <td>TalkTalk</td>\n",
       "      <td>TALK.L</td>\n",
       "      <td>06-Nov-15</td>\n",
       "    </tr>\n",
       "    <tr>\n",
       "      <th>12</th>\n",
       "      <td>Juniper</td>\n",
       "      <td>JNPR</td>\n",
       "      <td>17-Dec-15</td>\n",
       "    </tr>\n",
       "  </tbody>\n",
       "</table>\n",
       "</div>"
      ],
      "text/plain": [
       "   Company Name Stock Code Disclosure Date\n",
       "0          Sony        SNE       31-May-11\n",
       "1      Terracom     TER.AX       23-May-13\n",
       "2         Adobe       ADBE       03-Oct-13\n",
       "3        Target        TGT       01-Jan-14\n",
       "4          Ebay       EBAY       21-Mar-14\n",
       "5    Home Depot         HD       02-Sep-14\n",
       "6        Google       GOOG       10-Sep-14\n",
       "7          Sony        SNE       08-Dec-14\n",
       "8       Premera       ESRX       29-Jan-15\n",
       "9        Anthem       ANTM       04-Feb-15\n",
       "10     Experian     EXPN.L       01-Oct-15\n",
       "11     TalkTalk     TALK.L       06-Nov-15\n",
       "12      Juniper       JNPR       17-Dec-15"
      ]
     },
     "execution_count": 122,
     "metadata": {},
     "output_type": "execute_result"
    }
   ],
   "source": [
    "df"
   ]
  },
  {
   "cell_type": "markdown",
   "metadata": {},
   "source": [
    "#### Splitting Date elements into their own columns"
   ]
  },
  {
   "cell_type": "code",
   "execution_count": 137,
   "metadata": {
    "collapsed": true
   },
   "outputs": [],
   "source": [
    "# Month dictionary:\n",
    "Month_Nums = {'Jan': 1, 'Feb': 2, 'Mar':3, 'Apr':4, 'May':5, 'Jun':6, \n",
    "              'Jul': 7, 'Aug':8, 'Sep':9, 'Oct':10, 'Nov':11, 'Dec':12}"
   ]
  },
  {
   "cell_type": "code",
   "execution_count": 282,
   "metadata": {
    "collapsed": true
   },
   "outputs": [],
   "source": [
    "df['Day'] = 0\n",
    "df['Month'] = 0\n",
    "df['Year'] = 2000"
   ]
  },
  {
   "cell_type": "code",
   "execution_count": 283,
   "metadata": {
    "collapsed": false
   },
   "outputs": [],
   "source": [
    "for i in range(0,13):\n",
    "    DashRM = df.iloc[i]['Disclosure Date'].split('-')\n",
    "    df.loc[i,'Day'] = int(DashRM[0])\n",
    "    df.loc[i,'Month'] = int(Month_Nums[DashRM[1]])\n",
    "    df.loc[i,'Year'] = 2000 + int(DashRM[2])"
   ]
  },
  {
   "cell_type": "markdown",
   "metadata": {
    "collapsed": true
   },
   "source": [
    "## Gathering stock prices for each company during year of data breach:"
   ]
  },
  {
   "cell_type": "markdown",
   "metadata": {},
   "source": [
    "We will find price change rate from date of disclosure, to three days afterwards"
   ]
  },
  {
   "cell_type": "code",
   "execution_count": 5,
   "metadata": {
    "collapsed": false,
    "scrolled": true
   },
   "outputs": [],
   "source": [
    "from pandas_datareader import data, wb\n",
    "import pandas_datareader.data as web\n",
    "import datetime\n",
    "from datetime import timedelta"
   ]
  },
  {
   "cell_type": "markdown",
   "metadata": {
    "collapsed": true
   },
   "source": [
    "<B>MANUALLY</B> iterate through rows with the below code to get stock price rate for each row, from 0 to len of DF.  \n",
    "Unable to use complete loop automation because web datareader doesn't always work.  \n",
    "Can try re-run for a given row if errors occur and it might properly pull the data.  Otherwise, probably no stock data.  \n",
    "Successful price printout means data entry success."
   ]
  },
  {
   "cell_type": "code",
   "execution_count": 291,
   "metadata": {
    "collapsed": true
   },
   "outputs": [],
   "source": [
    "df['3-day Price Change'] = np.nan"
   ]
  },
  {
   "cell_type": "code",
   "execution_count": 294,
   "metadata": {
    "collapsed": false
   },
   "outputs": [
    {
     "name": "stdout",
     "output_type": "stream",
     "text": [
      "9 -2.769989\n",
      "10 1.0\n",
      "11 19.899994\n",
      "12 -1.600001\n"
     ]
    }
   ],
   "source": [
    "n = 9  # CHANGE THIS STARTING NUMBER VALUE YOURSELF for all rows\n",
    "       # when \"unable to read\" error occurs\n",
    "\n",
    "for i in range(n, len(df)):\n",
    "\n",
    "    entry = df.values[i]\n",
    "\n",
    "    entity = entry[0]\n",
    "    ticker = entry[1]\n",
    "    day = entry[3]\n",
    "    month = entry[4]\n",
    "    year = entry[5]\n",
    "\n",
    "    start = datetime.datetime(year, month, day)\n",
    "    end = start + timedelta(6)\n",
    "    f = web.DataReader(ticker, 'yahoo', start, end)\n",
    "\n",
    "    f = f.reset_index()      # indexes form dates to index.  Dates still retained.\n",
    "\n",
    "    df.loc[i,'3-day Price Change'] = f.loc[3,'Close'] - f.loc[0,'Close']\n",
    "\n",
    "    # print(i, f.loc[3,'Close'] - f.loc[0,'Close'])\n",
    "    print(i, df.loc[i,'3-day Price Change'])"
   ]
  },
  {
   "cell_type": "code",
   "execution_count": 295,
   "metadata": {
    "collapsed": false
   },
   "outputs": [
    {
     "data": {
      "text/html": [
       "<div>\n",
       "<style>\n",
       "    .dataframe thead tr:only-child th {\n",
       "        text-align: right;\n",
       "    }\n",
       "\n",
       "    .dataframe thead th {\n",
       "        text-align: left;\n",
       "    }\n",
       "\n",
       "    .dataframe tbody tr th {\n",
       "        vertical-align: top;\n",
       "    }\n",
       "</style>\n",
       "<table border=\"1\" class=\"dataframe\">\n",
       "  <thead>\n",
       "    <tr style=\"text-align: right;\">\n",
       "      <th></th>\n",
       "      <th>Company Name</th>\n",
       "      <th>Stock Code</th>\n",
       "      <th>Disclosure Date</th>\n",
       "      <th>Day</th>\n",
       "      <th>Month</th>\n",
       "      <th>Year</th>\n",
       "      <th>3-day Price Change</th>\n",
       "    </tr>\n",
       "  </thead>\n",
       "  <tbody>\n",
       "    <tr>\n",
       "      <th>0</th>\n",
       "      <td>Sony</td>\n",
       "      <td>SNE</td>\n",
       "      <td>31-May-11</td>\n",
       "      <td>31</td>\n",
       "      <td>5</td>\n",
       "      <td>2011</td>\n",
       "      <td>-0.360001</td>\n",
       "    </tr>\n",
       "    <tr>\n",
       "      <th>1</th>\n",
       "      <td>Terracom</td>\n",
       "      <td>TER.AX</td>\n",
       "      <td>23-May-13</td>\n",
       "      <td>23</td>\n",
       "      <td>5</td>\n",
       "      <td>2013</td>\n",
       "      <td>0.000000</td>\n",
       "    </tr>\n",
       "    <tr>\n",
       "      <th>2</th>\n",
       "      <td>Adobe</td>\n",
       "      <td>ADBE</td>\n",
       "      <td>03-Oct-13</td>\n",
       "      <td>3</td>\n",
       "      <td>10</td>\n",
       "      <td>2013</td>\n",
       "      <td>-1.299999</td>\n",
       "    </tr>\n",
       "    <tr>\n",
       "      <th>3</th>\n",
       "      <td>Target</td>\n",
       "      <td>TGT</td>\n",
       "      <td>01-Jan-14</td>\n",
       "      <td>1</td>\n",
       "      <td>1</td>\n",
       "      <td>2014</td>\n",
       "      <td>-0.270000</td>\n",
       "    </tr>\n",
       "    <tr>\n",
       "      <th>4</th>\n",
       "      <td>Ebay</td>\n",
       "      <td>EBAY</td>\n",
       "      <td>21-Mar-14</td>\n",
       "      <td>21</td>\n",
       "      <td>3</td>\n",
       "      <td>2014</td>\n",
       "      <td>-0.572391</td>\n",
       "    </tr>\n",
       "    <tr>\n",
       "      <th>5</th>\n",
       "      <td>Home Depot</td>\n",
       "      <td>HD</td>\n",
       "      <td>02-Sep-14</td>\n",
       "      <td>2</td>\n",
       "      <td>9</td>\n",
       "      <td>2014</td>\n",
       "      <td>0.459999</td>\n",
       "    </tr>\n",
       "    <tr>\n",
       "      <th>6</th>\n",
       "      <td>Google</td>\n",
       "      <td>GOOG</td>\n",
       "      <td>10-Sep-14</td>\n",
       "      <td>10</td>\n",
       "      <td>9</td>\n",
       "      <td>2014</td>\n",
       "      <td>-9.945313</td>\n",
       "    </tr>\n",
       "    <tr>\n",
       "      <th>7</th>\n",
       "      <td>Sony</td>\n",
       "      <td>SNE</td>\n",
       "      <td>08-Dec-14</td>\n",
       "      <td>8</td>\n",
       "      <td>12</td>\n",
       "      <td>2014</td>\n",
       "      <td>-0.410000</td>\n",
       "    </tr>\n",
       "    <tr>\n",
       "      <th>8</th>\n",
       "      <td>Premera</td>\n",
       "      <td>ESRX</td>\n",
       "      <td>29-Jan-15</td>\n",
       "      <td>29</td>\n",
       "      <td>1</td>\n",
       "      <td>2015</td>\n",
       "      <td>-0.409996</td>\n",
       "    </tr>\n",
       "    <tr>\n",
       "      <th>9</th>\n",
       "      <td>Anthem</td>\n",
       "      <td>ANTM</td>\n",
       "      <td>04-Feb-15</td>\n",
       "      <td>4</td>\n",
       "      <td>2</td>\n",
       "      <td>2015</td>\n",
       "      <td>-2.769989</td>\n",
       "    </tr>\n",
       "    <tr>\n",
       "      <th>10</th>\n",
       "      <td>Experian</td>\n",
       "      <td>EXPN.L</td>\n",
       "      <td>01-Oct-15</td>\n",
       "      <td>1</td>\n",
       "      <td>10</td>\n",
       "      <td>2015</td>\n",
       "      <td>1.000000</td>\n",
       "    </tr>\n",
       "    <tr>\n",
       "      <th>11</th>\n",
       "      <td>TalkTalk</td>\n",
       "      <td>TALK.L</td>\n",
       "      <td>06-Nov-15</td>\n",
       "      <td>6</td>\n",
       "      <td>11</td>\n",
       "      <td>2015</td>\n",
       "      <td>19.899994</td>\n",
       "    </tr>\n",
       "    <tr>\n",
       "      <th>12</th>\n",
       "      <td>Juniper</td>\n",
       "      <td>JNPR</td>\n",
       "      <td>17-Dec-15</td>\n",
       "      <td>17</td>\n",
       "      <td>12</td>\n",
       "      <td>2015</td>\n",
       "      <td>-1.600001</td>\n",
       "    </tr>\n",
       "  </tbody>\n",
       "</table>\n",
       "</div>"
      ],
      "text/plain": [
       "   Company Name Stock Code Disclosure Date  Day  Month  Year  \\\n",
       "0          Sony        SNE       31-May-11   31      5  2011   \n",
       "1      Terracom     TER.AX       23-May-13   23      5  2013   \n",
       "2         Adobe       ADBE       03-Oct-13    3     10  2013   \n",
       "3        Target        TGT       01-Jan-14    1      1  2014   \n",
       "4          Ebay       EBAY       21-Mar-14   21      3  2014   \n",
       "5    Home Depot         HD       02-Sep-14    2      9  2014   \n",
       "6        Google       GOOG       10-Sep-14   10      9  2014   \n",
       "7          Sony        SNE       08-Dec-14    8     12  2014   \n",
       "8       Premera       ESRX       29-Jan-15   29      1  2015   \n",
       "9        Anthem       ANTM       04-Feb-15    4      2  2015   \n",
       "10     Experian     EXPN.L       01-Oct-15    1     10  2015   \n",
       "11     TalkTalk     TALK.L       06-Nov-15    6     11  2015   \n",
       "12      Juniper       JNPR       17-Dec-15   17     12  2015   \n",
       "\n",
       "    3-day Price Change  \n",
       "0            -0.360001  \n",
       "1             0.000000  \n",
       "2            -1.299999  \n",
       "3            -0.270000  \n",
       "4            -0.572391  \n",
       "5             0.459999  \n",
       "6            -9.945313  \n",
       "7            -0.410000  \n",
       "8            -0.409996  \n",
       "9            -2.769989  \n",
       "10            1.000000  \n",
       "11           19.899994  \n",
       "12           -1.600001  "
      ]
     },
     "execution_count": 295,
     "metadata": {},
     "output_type": "execute_result"
    }
   ],
   "source": [
    "df"
   ]
  },
  {
   "cell_type": "code",
   "execution_count": 296,
   "metadata": {
    "collapsed": true
   },
   "outputs": [],
   "source": [
    "# Export to CSV\n",
    "\n",
    "df.to_csv(\"DataBreach&Stocks_v2.csv\", header=True, encoding='utf-8')"
   ]
  },
  {
   "cell_type": "markdown",
   "metadata": {},
   "source": [
    "### Create date fields"
   ]
  },
  {
   "cell_type": "code",
   "execution_count": 83,
   "metadata": {
    "collapsed": false
   },
   "outputs": [],
   "source": [
    "df2 = pd.read_csv('DataBreach&Stocks_v2.csv')"
   ]
  },
  {
   "cell_type": "code",
   "execution_count": 84,
   "metadata": {
    "collapsed": false
   },
   "outputs": [],
   "source": [
    "df2 = df2.drop('Unnamed: 0', axis=1)"
   ]
  },
  {
   "cell_type": "code",
   "execution_count": 85,
   "metadata": {
    "collapsed": false
   },
   "outputs": [
    {
     "data": {
      "text/html": [
       "<div>\n",
       "<style>\n",
       "    .dataframe thead tr:only-child th {\n",
       "        text-align: right;\n",
       "    }\n",
       "\n",
       "    .dataframe thead th {\n",
       "        text-align: left;\n",
       "    }\n",
       "\n",
       "    .dataframe tbody tr th {\n",
       "        vertical-align: top;\n",
       "    }\n",
       "</style>\n",
       "<table border=\"1\" class=\"dataframe\">\n",
       "  <thead>\n",
       "    <tr style=\"text-align: right;\">\n",
       "      <th></th>\n",
       "      <th>Company Name</th>\n",
       "      <th>Stock Code</th>\n",
       "      <th>Disclosure Date</th>\n",
       "      <th>Day</th>\n",
       "      <th>Month</th>\n",
       "      <th>Year</th>\n",
       "      <th>3-day Price Change</th>\n",
       "    </tr>\n",
       "  </thead>\n",
       "  <tbody>\n",
       "    <tr>\n",
       "      <th>0</th>\n",
       "      <td>Sony</td>\n",
       "      <td>SNE</td>\n",
       "      <td>31-May-11</td>\n",
       "      <td>31</td>\n",
       "      <td>5</td>\n",
       "      <td>2011</td>\n",
       "      <td>-0.360001</td>\n",
       "    </tr>\n",
       "    <tr>\n",
       "      <th>1</th>\n",
       "      <td>Terracom</td>\n",
       "      <td>TER.AX</td>\n",
       "      <td>23-May-13</td>\n",
       "      <td>23</td>\n",
       "      <td>5</td>\n",
       "      <td>2013</td>\n",
       "      <td>0.000000</td>\n",
       "    </tr>\n",
       "    <tr>\n",
       "      <th>2</th>\n",
       "      <td>Adobe</td>\n",
       "      <td>ADBE</td>\n",
       "      <td>03-Oct-13</td>\n",
       "      <td>3</td>\n",
       "      <td>10</td>\n",
       "      <td>2013</td>\n",
       "      <td>-1.299999</td>\n",
       "    </tr>\n",
       "    <tr>\n",
       "      <th>3</th>\n",
       "      <td>Target</td>\n",
       "      <td>TGT</td>\n",
       "      <td>01-Jan-14</td>\n",
       "      <td>1</td>\n",
       "      <td>1</td>\n",
       "      <td>2014</td>\n",
       "      <td>-0.270000</td>\n",
       "    </tr>\n",
       "    <tr>\n",
       "      <th>4</th>\n",
       "      <td>Ebay</td>\n",
       "      <td>EBAY</td>\n",
       "      <td>21-Mar-14</td>\n",
       "      <td>21</td>\n",
       "      <td>3</td>\n",
       "      <td>2014</td>\n",
       "      <td>-0.572391</td>\n",
       "    </tr>\n",
       "    <tr>\n",
       "      <th>5</th>\n",
       "      <td>Home Depot</td>\n",
       "      <td>HD</td>\n",
       "      <td>02-Sep-14</td>\n",
       "      <td>2</td>\n",
       "      <td>9</td>\n",
       "      <td>2014</td>\n",
       "      <td>0.459999</td>\n",
       "    </tr>\n",
       "    <tr>\n",
       "      <th>6</th>\n",
       "      <td>Google</td>\n",
       "      <td>GOOG</td>\n",
       "      <td>10-Sep-14</td>\n",
       "      <td>10</td>\n",
       "      <td>9</td>\n",
       "      <td>2014</td>\n",
       "      <td>-9.945313</td>\n",
       "    </tr>\n",
       "    <tr>\n",
       "      <th>7</th>\n",
       "      <td>Sony</td>\n",
       "      <td>SNE</td>\n",
       "      <td>08-Dec-14</td>\n",
       "      <td>8</td>\n",
       "      <td>12</td>\n",
       "      <td>2014</td>\n",
       "      <td>-0.410000</td>\n",
       "    </tr>\n",
       "    <tr>\n",
       "      <th>8</th>\n",
       "      <td>Premera</td>\n",
       "      <td>ESRX</td>\n",
       "      <td>29-Jan-15</td>\n",
       "      <td>29</td>\n",
       "      <td>1</td>\n",
       "      <td>2015</td>\n",
       "      <td>-0.409996</td>\n",
       "    </tr>\n",
       "    <tr>\n",
       "      <th>9</th>\n",
       "      <td>Anthem</td>\n",
       "      <td>ANTM</td>\n",
       "      <td>04-Feb-15</td>\n",
       "      <td>4</td>\n",
       "      <td>2</td>\n",
       "      <td>2015</td>\n",
       "      <td>-2.769989</td>\n",
       "    </tr>\n",
       "    <tr>\n",
       "      <th>10</th>\n",
       "      <td>Experian</td>\n",
       "      <td>EXPN.L</td>\n",
       "      <td>01-Oct-15</td>\n",
       "      <td>1</td>\n",
       "      <td>10</td>\n",
       "      <td>2015</td>\n",
       "      <td>1.000000</td>\n",
       "    </tr>\n",
       "    <tr>\n",
       "      <th>11</th>\n",
       "      <td>TalkTalk</td>\n",
       "      <td>TALK.L</td>\n",
       "      <td>06-Nov-15</td>\n",
       "      <td>6</td>\n",
       "      <td>11</td>\n",
       "      <td>2015</td>\n",
       "      <td>19.899994</td>\n",
       "    </tr>\n",
       "    <tr>\n",
       "      <th>12</th>\n",
       "      <td>Juniper</td>\n",
       "      <td>JNPR</td>\n",
       "      <td>17-Dec-15</td>\n",
       "      <td>17</td>\n",
       "      <td>12</td>\n",
       "      <td>2015</td>\n",
       "      <td>-1.600001</td>\n",
       "    </tr>\n",
       "  </tbody>\n",
       "</table>\n",
       "</div>"
      ],
      "text/plain": [
       "   Company Name Stock Code Disclosure Date  Day  Month  Year  \\\n",
       "0          Sony        SNE       31-May-11   31      5  2011   \n",
       "1      Terracom     TER.AX       23-May-13   23      5  2013   \n",
       "2         Adobe       ADBE       03-Oct-13    3     10  2013   \n",
       "3        Target        TGT       01-Jan-14    1      1  2014   \n",
       "4          Ebay       EBAY       21-Mar-14   21      3  2014   \n",
       "5    Home Depot         HD       02-Sep-14    2      9  2014   \n",
       "6        Google       GOOG       10-Sep-14   10      9  2014   \n",
       "7          Sony        SNE       08-Dec-14    8     12  2014   \n",
       "8       Premera       ESRX       29-Jan-15   29      1  2015   \n",
       "9        Anthem       ANTM       04-Feb-15    4      2  2015   \n",
       "10     Experian     EXPN.L       01-Oct-15    1     10  2015   \n",
       "11     TalkTalk     TALK.L       06-Nov-15    6     11  2015   \n",
       "12      Juniper       JNPR       17-Dec-15   17     12  2015   \n",
       "\n",
       "    3-day Price Change  \n",
       "0            -0.360001  \n",
       "1             0.000000  \n",
       "2            -1.299999  \n",
       "3            -0.270000  \n",
       "4            -0.572391  \n",
       "5             0.459999  \n",
       "6            -9.945313  \n",
       "7            -0.410000  \n",
       "8            -0.409996  \n",
       "9            -2.769989  \n",
       "10            1.000000  \n",
       "11           19.899994  \n",
       "12           -1.600001  "
      ]
     },
     "execution_count": 85,
     "metadata": {},
     "output_type": "execute_result"
    }
   ],
   "source": [
    "df2"
   ]
  },
  {
   "cell_type": "code",
   "execution_count": 86,
   "metadata": {
    "collapsed": true
   },
   "outputs": [],
   "source": [
    "df2['Day_Token'] = 1"
   ]
  },
  {
   "cell_type": "code",
   "execution_count": 87,
   "metadata": {
    "collapsed": false
   },
   "outputs": [],
   "source": [
    "df2 = df2.append([df2],ignore_index=True)"
   ]
  },
  {
   "cell_type": "code",
   "execution_count": 88,
   "metadata": {
    "collapsed": false
   },
   "outputs": [
    {
     "data": {
      "text/plain": [
       "26"
      ]
     },
     "execution_count": 88,
     "metadata": {},
     "output_type": "execute_result"
    }
   ],
   "source": [
    "len(df2)"
   ]
  },
  {
   "cell_type": "markdown",
   "metadata": {},
   "source": [
    "#### Need to duplicate each row, with 2nd stock price value and date, in order to compare in Tableau"
   ]
  },
  {
   "cell_type": "code",
   "execution_count": 89,
   "metadata": {
    "collapsed": false
   },
   "outputs": [],
   "source": [
    "df2.loc[13:,'3-day Price Change'] = 0\n",
    "df2.loc[13:,'Day_Token'] = 0"
   ]
  },
  {
   "cell_type": "code",
   "execution_count": 92,
   "metadata": {
    "collapsed": false
   },
   "outputs": [
    {
     "data": {
      "text/html": [
       "<div>\n",
       "<style>\n",
       "    .dataframe thead tr:only-child th {\n",
       "        text-align: right;\n",
       "    }\n",
       "\n",
       "    .dataframe thead th {\n",
       "        text-align: left;\n",
       "    }\n",
       "\n",
       "    .dataframe tbody tr th {\n",
       "        vertical-align: top;\n",
       "    }\n",
       "</style>\n",
       "<table border=\"1\" class=\"dataframe\">\n",
       "  <thead>\n",
       "    <tr style=\"text-align: right;\">\n",
       "      <th></th>\n",
       "      <th>Company Name</th>\n",
       "      <th>Stock Code</th>\n",
       "      <th>Disclosure Date</th>\n",
       "      <th>Day</th>\n",
       "      <th>Month</th>\n",
       "      <th>Year</th>\n",
       "      <th>3-day Price Change</th>\n",
       "      <th>Day_Token</th>\n",
       "    </tr>\n",
       "  </thead>\n",
       "  <tbody>\n",
       "    <tr>\n",
       "      <th>0</th>\n",
       "      <td>Sony</td>\n",
       "      <td>SNE</td>\n",
       "      <td>31-May-11</td>\n",
       "      <td>31</td>\n",
       "      <td>5</td>\n",
       "      <td>2011</td>\n",
       "      <td>-0.360001</td>\n",
       "      <td>1</td>\n",
       "    </tr>\n",
       "    <tr>\n",
       "      <th>1</th>\n",
       "      <td>Terracom</td>\n",
       "      <td>TER.AX</td>\n",
       "      <td>23-May-13</td>\n",
       "      <td>23</td>\n",
       "      <td>5</td>\n",
       "      <td>2013</td>\n",
       "      <td>0.000000</td>\n",
       "      <td>1</td>\n",
       "    </tr>\n",
       "    <tr>\n",
       "      <th>2</th>\n",
       "      <td>Adobe</td>\n",
       "      <td>ADBE</td>\n",
       "      <td>03-Oct-13</td>\n",
       "      <td>3</td>\n",
       "      <td>10</td>\n",
       "      <td>2013</td>\n",
       "      <td>-1.299999</td>\n",
       "      <td>1</td>\n",
       "    </tr>\n",
       "    <tr>\n",
       "      <th>3</th>\n",
       "      <td>Target</td>\n",
       "      <td>TGT</td>\n",
       "      <td>01-Jan-14</td>\n",
       "      <td>1</td>\n",
       "      <td>1</td>\n",
       "      <td>2014</td>\n",
       "      <td>-0.270000</td>\n",
       "      <td>1</td>\n",
       "    </tr>\n",
       "    <tr>\n",
       "      <th>4</th>\n",
       "      <td>Ebay</td>\n",
       "      <td>EBAY</td>\n",
       "      <td>21-Mar-14</td>\n",
       "      <td>21</td>\n",
       "      <td>3</td>\n",
       "      <td>2014</td>\n",
       "      <td>-0.572391</td>\n",
       "      <td>1</td>\n",
       "    </tr>\n",
       "  </tbody>\n",
       "</table>\n",
       "</div>"
      ],
      "text/plain": [
       "  Company Name Stock Code Disclosure Date  Day  Month  Year  \\\n",
       "0         Sony        SNE       31-May-11   31      5  2011   \n",
       "1     Terracom     TER.AX       23-May-13   23      5  2013   \n",
       "2        Adobe       ADBE       03-Oct-13    3     10  2013   \n",
       "3       Target        TGT       01-Jan-14    1      1  2014   \n",
       "4         Ebay       EBAY       21-Mar-14   21      3  2014   \n",
       "\n",
       "   3-day Price Change  Day_Token  \n",
       "0           -0.360001          1  \n",
       "1            0.000000          1  \n",
       "2           -1.299999          1  \n",
       "3           -0.270000          1  \n",
       "4           -0.572391          1  "
      ]
     },
     "execution_count": 92,
     "metadata": {},
     "output_type": "execute_result"
    }
   ],
   "source": [
    "df2.head()"
   ]
  },
  {
   "cell_type": "code",
   "execution_count": 93,
   "metadata": {
    "collapsed": false
   },
   "outputs": [
    {
     "data": {
      "text/html": [
       "<div>\n",
       "<style>\n",
       "    .dataframe thead tr:only-child th {\n",
       "        text-align: right;\n",
       "    }\n",
       "\n",
       "    .dataframe thead th {\n",
       "        text-align: left;\n",
       "    }\n",
       "\n",
       "    .dataframe tbody tr th {\n",
       "        vertical-align: top;\n",
       "    }\n",
       "</style>\n",
       "<table border=\"1\" class=\"dataframe\">\n",
       "  <thead>\n",
       "    <tr style=\"text-align: right;\">\n",
       "      <th></th>\n",
       "      <th>Company Name</th>\n",
       "      <th>Stock Code</th>\n",
       "      <th>Disclosure Date</th>\n",
       "      <th>Day</th>\n",
       "      <th>Month</th>\n",
       "      <th>Year</th>\n",
       "      <th>3-day Price Change</th>\n",
       "      <th>Day_Token</th>\n",
       "    </tr>\n",
       "  </thead>\n",
       "  <tbody>\n",
       "    <tr>\n",
       "      <th>21</th>\n",
       "      <td>Premera</td>\n",
       "      <td>ESRX</td>\n",
       "      <td>29-Jan-15</td>\n",
       "      <td>29</td>\n",
       "      <td>1</td>\n",
       "      <td>2015</td>\n",
       "      <td>0.0</td>\n",
       "      <td>0</td>\n",
       "    </tr>\n",
       "    <tr>\n",
       "      <th>22</th>\n",
       "      <td>Anthem</td>\n",
       "      <td>ANTM</td>\n",
       "      <td>04-Feb-15</td>\n",
       "      <td>4</td>\n",
       "      <td>2</td>\n",
       "      <td>2015</td>\n",
       "      <td>0.0</td>\n",
       "      <td>0</td>\n",
       "    </tr>\n",
       "    <tr>\n",
       "      <th>23</th>\n",
       "      <td>Experian</td>\n",
       "      <td>EXPN.L</td>\n",
       "      <td>01-Oct-15</td>\n",
       "      <td>1</td>\n",
       "      <td>10</td>\n",
       "      <td>2015</td>\n",
       "      <td>0.0</td>\n",
       "      <td>0</td>\n",
       "    </tr>\n",
       "    <tr>\n",
       "      <th>24</th>\n",
       "      <td>TalkTalk</td>\n",
       "      <td>TALK.L</td>\n",
       "      <td>06-Nov-15</td>\n",
       "      <td>6</td>\n",
       "      <td>11</td>\n",
       "      <td>2015</td>\n",
       "      <td>0.0</td>\n",
       "      <td>0</td>\n",
       "    </tr>\n",
       "    <tr>\n",
       "      <th>25</th>\n",
       "      <td>Juniper</td>\n",
       "      <td>JNPR</td>\n",
       "      <td>17-Dec-15</td>\n",
       "      <td>17</td>\n",
       "      <td>12</td>\n",
       "      <td>2015</td>\n",
       "      <td>0.0</td>\n",
       "      <td>0</td>\n",
       "    </tr>\n",
       "  </tbody>\n",
       "</table>\n",
       "</div>"
      ],
      "text/plain": [
       "   Company Name Stock Code Disclosure Date  Day  Month  Year  \\\n",
       "21      Premera       ESRX       29-Jan-15   29      1  2015   \n",
       "22       Anthem       ANTM       04-Feb-15    4      2  2015   \n",
       "23     Experian     EXPN.L       01-Oct-15    1     10  2015   \n",
       "24     TalkTalk     TALK.L       06-Nov-15    6     11  2015   \n",
       "25      Juniper       JNPR       17-Dec-15   17     12  2015   \n",
       "\n",
       "    3-day Price Change  Day_Token  \n",
       "21                 0.0          0  \n",
       "22                 0.0          0  \n",
       "23                 0.0          0  \n",
       "24                 0.0          0  \n",
       "25                 0.0          0  "
      ]
     },
     "execution_count": 93,
     "metadata": {},
     "output_type": "execute_result"
    }
   ],
   "source": [
    "df2.tail()"
   ]
  },
  {
   "cell_type": "code",
   "execution_count": 94,
   "metadata": {
    "collapsed": false
   },
   "outputs": [],
   "source": [
    "df2.to_csv('DataBreach&Stocks_v3.csv')"
   ]
  },
  {
   "cell_type": "markdown",
   "metadata": {},
   "source": [
    "# Conclusion"
   ]
  },
  {
   "cell_type": "markdown",
   "metadata": {
    "collapsed": true
   },
   "source": [
    "In the previous attempt, our data only contained year of data breach, not date. This time I decided to find another dataset that contained dates that company announced they have been breached, so I can track price changes immediately following announcement. Price change is measured from the day a company announces the breach, to 3 days after the announcement.\n",
    "\n",
    "I visualized rise and drop in stock prices with line slopes. One can easily see that the lines tend to have negative slopes than positive.\n",
    "\n",
    "Stock prices can both rise and fall after a data breach announcement, but more likely they will  drop slightly. This visual does not take into account that stock changes can be affected by a variety of factors, not just data breaches."
   ]
  },
  {
   "cell_type": "code",
   "execution_count": null,
   "metadata": {
    "collapsed": true
   },
   "outputs": [],
   "source": []
  }
 ],
 "metadata": {
  "kernelspec": {
   "display_name": "Python 3",
   "language": "python",
   "name": "python3"
  },
  "language_info": {
   "codemirror_mode": {
    "name": "ipython",
    "version": 3
   },
   "file_extension": ".py",
   "mimetype": "text/x-python",
   "name": "python",
   "nbconvert_exporter": "python",
   "pygments_lexer": "ipython3",
   "version": "3.6.1"
  }
 },
 "nbformat": 4,
 "nbformat_minor": 1
}
