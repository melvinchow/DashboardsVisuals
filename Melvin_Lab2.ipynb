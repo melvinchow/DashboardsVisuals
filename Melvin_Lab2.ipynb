{
 "cells": [
  {
   "cell_type": "markdown",
   "metadata": {},
   "source": [
    "# Claim to support / refute:"
   ]
  },
  {
   "cell_type": "markdown",
   "metadata": {},
   "source": [
    "#### - “Security   breaches   do   mostly   occur   in   less-tech-savvy   organizations”\n",
    "\n",
    "https://public.tableau.com/profile/melvin7659#!/vizhome/Mel_Lab2_0/ofIncidentsbySavinessOrganization"
   ]
  },
  {
   "cell_type": "markdown",
   "metadata": {},
   "source": [
    "## Organizing the Data"
   ]
  },
  {
   "cell_type": "code",
   "execution_count": 1,
   "metadata": {
    "collapsed": true
   },
   "outputs": [],
   "source": [
    "# Imports\n",
    "\n",
    "import pandas as pd\n",
    "import xlrd as xl"
   ]
  },
  {
   "cell_type": "code",
   "execution_count": 2,
   "metadata": {
    "collapsed": false
   },
   "outputs": [],
   "source": [
    "# Load data into Excel file\n",
    "data = pd.ExcelFile(\"Information is Beautiful- Data Breaches (public).xlsx\")"
   ]
  },
  {
   "cell_type": "code",
   "execution_count": 3,
   "metadata": {
    "collapsed": false
   },
   "outputs": [
    {
     "data": {
      "text/plain": [
       "[u'2017 update', u'Jan 2015 update', u'July 2013 update (old)']"
      ]
     },
     "execution_count": 3,
     "metadata": {},
     "output_type": "execute_result"
    }
   ],
   "source": [
    "# See sheet names in excel file\n",
    "data.sheet_names"
   ]
  },
  {
   "cell_type": "code",
   "execution_count": 4,
   "metadata": {
    "collapsed": true
   },
   "outputs": [],
   "source": [
    "# Load first sheet into dataframe\n",
    "\n",
    "DF = data.parse('2017 update')"
   ]
  },
  {
   "cell_type": "code",
   "execution_count": 5,
   "metadata": {
    "collapsed": false,
    "scrolled": true
   },
   "outputs": [
    {
     "data": {
      "text/plain": [
       "Index([              u'Entity',     u'alternative name',\n",
       "                      u'story',                 u'YEAR',\n",
       "               u'records lost',         u'ORGANISATION',\n",
       "             u'METHOD OF LEAK',    u'interesting story',\n",
       "       u'NO OF RECORDS STOLEN',     u'DATA SENSITIVITY',\n",
       "                     u'UNUSED',             u'UNUSED.1',\n",
       "                    u'Exclude',          u'Unnamed: 13',\n",
       "            u'1st source link',      u'2nd source link',\n",
       "                 u'3rd source',          u'source name'],\n",
       "      dtype='object')"
      ]
     },
     "execution_count": 5,
     "metadata": {},
     "output_type": "execute_result"
    }
   ],
   "source": [
    "# Preview data columns\n",
    "DF.columns"
   ]
  },
  {
   "cell_type": "code",
   "execution_count": 6,
   "metadata": {
    "collapsed": false,
    "scrolled": true
   },
   "outputs": [
    {
     "data": {
      "text/html": [
       "<div>\n",
       "<style>\n",
       "    .dataframe thead tr:only-child th {\n",
       "        text-align: right;\n",
       "    }\n",
       "\n",
       "    .dataframe thead th {\n",
       "        text-align: left;\n",
       "    }\n",
       "\n",
       "    .dataframe tbody tr th {\n",
       "        vertical-align: top;\n",
       "    }\n",
       "</style>\n",
       "<table border=\"1\" class=\"dataframe\">\n",
       "  <thead>\n",
       "    <tr style=\"text-align: right;\">\n",
       "      <th></th>\n",
       "      <th>Entity</th>\n",
       "      <th>YEAR</th>\n",
       "      <th>records lost</th>\n",
       "      <th>ORGANISATION</th>\n",
       "      <th>METHOD OF LEAK</th>\n",
       "      <th>DATA SENSITIVITY</th>\n",
       "    </tr>\n",
       "  </thead>\n",
       "  <tbody>\n",
       "    <tr>\n",
       "      <th>0</th>\n",
       "      <td>NaN</td>\n",
       "      <td>years are encoded (0=2004, 8 = 2012, 9 = 2013,...</td>\n",
       "      <td>(use 3m, 4m, 5m or 10m to approximate unknown ...</td>\n",
       "      <td>NaN</td>\n",
       "      <td>NaN</td>\n",
       "      <td>1. Just email address/Online information 20 SS...</td>\n",
       "    </tr>\n",
       "    <tr>\n",
       "      <th>1</th>\n",
       "      <td>AOL</td>\n",
       "      <td>0</td>\n",
       "      <td>92000000</td>\n",
       "      <td>web</td>\n",
       "      <td>inside job</td>\n",
       "      <td>1</td>\n",
       "    </tr>\n",
       "    <tr>\n",
       "      <th>2</th>\n",
       "      <td>Automatic Data Processing</td>\n",
       "      <td>1</td>\n",
       "      <td>125000</td>\n",
       "      <td>financial</td>\n",
       "      <td>poor security</td>\n",
       "      <td>20</td>\n",
       "    </tr>\n",
       "    <tr>\n",
       "      <th>3</th>\n",
       "      <td>Ameritrade Inc.</td>\n",
       "      <td>1</td>\n",
       "      <td>200000</td>\n",
       "      <td>financial</td>\n",
       "      <td>lost / stolen device</td>\n",
       "      <td>20</td>\n",
       "    </tr>\n",
       "    <tr>\n",
       "      <th>4</th>\n",
       "      <td>Citigroup</td>\n",
       "      <td>1</td>\n",
       "      <td>3900000</td>\n",
       "      <td>financial</td>\n",
       "      <td>lost / stolen device</td>\n",
       "      <td>300</td>\n",
       "    </tr>\n",
       "  </tbody>\n",
       "</table>\n",
       "</div>"
      ],
      "text/plain": [
       "                      Entity  \\\n",
       "0                        NaN   \n",
       "1                        AOL   \n",
       "2  Automatic Data Processing   \n",
       "3            Ameritrade Inc.   \n",
       "4                  Citigroup   \n",
       "\n",
       "                                                YEAR  \\\n",
       "0  years are encoded (0=2004, 8 = 2012, 9 = 2013,...   \n",
       "1                                                  0   \n",
       "2                                                  1   \n",
       "3                                                  1   \n",
       "4                                                  1   \n",
       "\n",
       "                                        records lost ORGANISATION  \\\n",
       "0  (use 3m, 4m, 5m or 10m to approximate unknown ...          NaN   \n",
       "1                                           92000000          web   \n",
       "2                                             125000    financial   \n",
       "3                                             200000    financial   \n",
       "4                                            3900000    financial   \n",
       "\n",
       "         METHOD OF LEAK                                   DATA SENSITIVITY  \n",
       "0                   NaN  1. Just email address/Online information 20 SS...  \n",
       "1            inside job                                                  1  \n",
       "2         poor security                                                 20  \n",
       "3  lost / stolen device                                                 20  \n",
       "4  lost / stolen device                                                300  "
      ]
     },
     "execution_count": 6,
     "metadata": {},
     "output_type": "execute_result"
    }
   ],
   "source": [
    "# Remove unnecessary columns\n",
    "\n",
    "StripCols = DF[[\"Entity\", \"YEAR\", \"records lost\", \"ORGANISATION\", \"METHOD OF LEAK\", \"DATA SENSITIVITY\"]]\n",
    "StripCols.head()"
   ]
  },
  {
   "cell_type": "code",
   "execution_count": 7,
   "metadata": {
    "collapsed": false
   },
   "outputs": [
    {
     "data": {
      "text/html": [
       "<div>\n",
       "<style>\n",
       "    .dataframe thead tr:only-child th {\n",
       "        text-align: right;\n",
       "    }\n",
       "\n",
       "    .dataframe thead th {\n",
       "        text-align: left;\n",
       "    }\n",
       "\n",
       "    .dataframe tbody tr th {\n",
       "        vertical-align: top;\n",
       "    }\n",
       "</style>\n",
       "<table border=\"1\" class=\"dataframe\">\n",
       "  <thead>\n",
       "    <tr style=\"text-align: right;\">\n",
       "      <th></th>\n",
       "      <th>Entity</th>\n",
       "      <th>YEAR</th>\n",
       "      <th>records lost</th>\n",
       "      <th>ORGANISATION</th>\n",
       "      <th>METHOD OF LEAK</th>\n",
       "      <th>DATA SENSITIVITY</th>\n",
       "    </tr>\n",
       "  </thead>\n",
       "  <tbody>\n",
       "    <tr>\n",
       "      <th>1</th>\n",
       "      <td>AOL</td>\n",
       "      <td>0</td>\n",
       "      <td>92000000</td>\n",
       "      <td>web</td>\n",
       "      <td>inside job</td>\n",
       "      <td>1</td>\n",
       "    </tr>\n",
       "    <tr>\n",
       "      <th>2</th>\n",
       "      <td>Automatic Data Processing</td>\n",
       "      <td>1</td>\n",
       "      <td>125000</td>\n",
       "      <td>financial</td>\n",
       "      <td>poor security</td>\n",
       "      <td>20</td>\n",
       "    </tr>\n",
       "    <tr>\n",
       "      <th>3</th>\n",
       "      <td>Ameritrade Inc.</td>\n",
       "      <td>1</td>\n",
       "      <td>200000</td>\n",
       "      <td>financial</td>\n",
       "      <td>lost / stolen device</td>\n",
       "      <td>20</td>\n",
       "    </tr>\n",
       "    <tr>\n",
       "      <th>4</th>\n",
       "      <td>Citigroup</td>\n",
       "      <td>1</td>\n",
       "      <td>3900000</td>\n",
       "      <td>financial</td>\n",
       "      <td>lost / stolen device</td>\n",
       "      <td>300</td>\n",
       "    </tr>\n",
       "    <tr>\n",
       "      <th>5</th>\n",
       "      <td>Cardsystems Solutions Inc.</td>\n",
       "      <td>1</td>\n",
       "      <td>40000000</td>\n",
       "      <td>financial</td>\n",
       "      <td>hacked</td>\n",
       "      <td>300</td>\n",
       "    </tr>\n",
       "  </tbody>\n",
       "</table>\n",
       "</div>"
      ],
      "text/plain": [
       "                        Entity YEAR records lost ORGANISATION  \\\n",
       "1                          AOL    0     92000000          web   \n",
       "2    Automatic Data Processing    1       125000    financial   \n",
       "3              Ameritrade Inc.    1       200000    financial   \n",
       "4                    Citigroup    1      3900000    financial   \n",
       "5  Cardsystems Solutions Inc.     1     40000000    financial   \n",
       "\n",
       "         METHOD OF LEAK DATA SENSITIVITY  \n",
       "1            inside job                1  \n",
       "2         poor security               20  \n",
       "3  lost / stolen device               20  \n",
       "4  lost / stolen device              300  \n",
       "5                hacked              300  "
      ]
     },
     "execution_count": 7,
     "metadata": {},
     "output_type": "execute_result"
    }
   ],
   "source": [
    "# remove first row with NaN values\n",
    "\n",
    "cleaned = StripCols.dropna()\n",
    "cleaned.head()"
   ]
  },
  {
   "cell_type": "markdown",
   "metadata": {},
   "source": [
    "Convert year values to real years"
   ]
  },
  {
   "cell_type": "code",
   "execution_count": 8,
   "metadata": {
    "collapsed": false,
    "scrolled": false
   },
   "outputs": [
    {
     "data": {
      "text/html": [
       "<div>\n",
       "<style>\n",
       "    .dataframe thead tr:only-child th {\n",
       "        text-align: right;\n",
       "    }\n",
       "\n",
       "    .dataframe thead th {\n",
       "        text-align: left;\n",
       "    }\n",
       "\n",
       "    .dataframe tbody tr th {\n",
       "        vertical-align: top;\n",
       "    }\n",
       "</style>\n",
       "<table border=\"1\" class=\"dataframe\">\n",
       "  <thead>\n",
       "    <tr style=\"text-align: right;\">\n",
       "      <th></th>\n",
       "      <th>Entity</th>\n",
       "      <th>Real Year</th>\n",
       "      <th>records lost</th>\n",
       "      <th>ORGANISATION</th>\n",
       "      <th>METHOD OF LEAK</th>\n",
       "      <th>DATA SENSITIVITY</th>\n",
       "    </tr>\n",
       "  </thead>\n",
       "  <tbody>\n",
       "    <tr>\n",
       "      <th>249</th>\n",
       "      <td>CEX</td>\n",
       "      <td>2018</td>\n",
       "      <td>2000000</td>\n",
       "      <td>retail</td>\n",
       "      <td>accidentally published</td>\n",
       "      <td>300</td>\n",
       "    </tr>\n",
       "    <tr>\n",
       "      <th>250</th>\n",
       "      <td>Swedish Transport Agency</td>\n",
       "      <td>2018</td>\n",
       "      <td>3000000</td>\n",
       "      <td>government</td>\n",
       "      <td>poor security</td>\n",
       "      <td>50000</td>\n",
       "    </tr>\n",
       "    <tr>\n",
       "      <th>251</th>\n",
       "      <td>Instagram</td>\n",
       "      <td>2018</td>\n",
       "      <td>6000000</td>\n",
       "      <td>web</td>\n",
       "      <td>hacked</td>\n",
       "      <td>1</td>\n",
       "    </tr>\n",
       "    <tr>\n",
       "      <th>252</th>\n",
       "      <td>Equifax</td>\n",
       "      <td>2018</td>\n",
       "      <td>143000000</td>\n",
       "      <td>financial</td>\n",
       "      <td>hacked</td>\n",
       "      <td>50000</td>\n",
       "    </tr>\n",
       "    <tr>\n",
       "      <th>253</th>\n",
       "      <td>Spambot</td>\n",
       "      <td>2018</td>\n",
       "      <td>711000000</td>\n",
       "      <td>web</td>\n",
       "      <td>poor security</td>\n",
       "      <td>4000</td>\n",
       "    </tr>\n",
       "  </tbody>\n",
       "</table>\n",
       "</div>"
      ],
      "text/plain": [
       "                       Entity Real Year records lost ORGANISATION  \\\n",
       "249                       CEX      2018      2000000       retail   \n",
       "250  Swedish Transport Agency      2018      3000000   government   \n",
       "251                 Instagram      2018      6000000          web   \n",
       "252                   Equifax      2018    143000000    financial   \n",
       "253                   Spambot      2018    711000000          web   \n",
       "\n",
       "             METHOD OF LEAK DATA SENSITIVITY  \n",
       "249  accidentally published              300  \n",
       "250           poor security            50000  \n",
       "251                  hacked                1  \n",
       "252                  hacked            50000  \n",
       "253           poor security             4000  "
      ]
     },
     "execution_count": 8,
     "metadata": {},
     "output_type": "execute_result"
    }
   ],
   "source": [
    "cleaned['YEAR'].astype(int)   # Convert data type\n",
    "cleaned2 = cleaned.copy()\n",
    "cleaned2['Real Year'] = cleaned['YEAR'] + 2004\n",
    "\n",
    "cleaned3 = cleaned2[[\"Entity\", \"Real Year\", \"records lost\", \"ORGANISATION\", \"METHOD OF LEAK\", \"DATA SENSITIVITY\"]]\n",
    "cleaned3.tail()"
   ]
  },
  {
   "cell_type": "markdown",
   "metadata": {},
   "source": [
    "### Some data in various rows had errors and need altering for consistency:"
   ]
  },
  {
   "cell_type": "markdown",
   "metadata": {},
   "source": [
    "Most recent breaches appear as \"2018\". Change to \"2017\"."
   ]
  },
  {
   "cell_type": "code",
   "execution_count": 9,
   "metadata": {
    "collapsed": false
   },
   "outputs": [
    {
     "data": {
      "text/html": [
       "<div>\n",
       "<style>\n",
       "    .dataframe thead tr:only-child th {\n",
       "        text-align: right;\n",
       "    }\n",
       "\n",
       "    .dataframe thead th {\n",
       "        text-align: left;\n",
       "    }\n",
       "\n",
       "    .dataframe tbody tr th {\n",
       "        vertical-align: top;\n",
       "    }\n",
       "</style>\n",
       "<table border=\"1\" class=\"dataframe\">\n",
       "  <thead>\n",
       "    <tr style=\"text-align: right;\">\n",
       "      <th></th>\n",
       "      <th>Entity</th>\n",
       "      <th>Real Year</th>\n",
       "      <th>records lost</th>\n",
       "      <th>ORGANISATION</th>\n",
       "      <th>METHOD OF LEAK</th>\n",
       "      <th>DATA SENSITIVITY</th>\n",
       "    </tr>\n",
       "  </thead>\n",
       "  <tbody>\n",
       "    <tr>\n",
       "      <th>249</th>\n",
       "      <td>CEX</td>\n",
       "      <td>2017</td>\n",
       "      <td>2000000</td>\n",
       "      <td>retail</td>\n",
       "      <td>accidentally published</td>\n",
       "      <td>300</td>\n",
       "    </tr>\n",
       "    <tr>\n",
       "      <th>250</th>\n",
       "      <td>Swedish Transport Agency</td>\n",
       "      <td>2017</td>\n",
       "      <td>3000000</td>\n",
       "      <td>government</td>\n",
       "      <td>poor security</td>\n",
       "      <td>50000</td>\n",
       "    </tr>\n",
       "    <tr>\n",
       "      <th>251</th>\n",
       "      <td>Instagram</td>\n",
       "      <td>2017</td>\n",
       "      <td>6000000</td>\n",
       "      <td>web</td>\n",
       "      <td>hacked</td>\n",
       "      <td>1</td>\n",
       "    </tr>\n",
       "    <tr>\n",
       "      <th>252</th>\n",
       "      <td>Equifax</td>\n",
       "      <td>2017</td>\n",
       "      <td>143000000</td>\n",
       "      <td>financial</td>\n",
       "      <td>hacked</td>\n",
       "      <td>50000</td>\n",
       "    </tr>\n",
       "    <tr>\n",
       "      <th>253</th>\n",
       "      <td>Spambot</td>\n",
       "      <td>2017</td>\n",
       "      <td>711000000</td>\n",
       "      <td>web</td>\n",
       "      <td>poor security</td>\n",
       "      <td>4000</td>\n",
       "    </tr>\n",
       "  </tbody>\n",
       "</table>\n",
       "</div>"
      ],
      "text/plain": [
       "                       Entity Real Year records lost ORGANISATION  \\\n",
       "249                       CEX      2017      2000000       retail   \n",
       "250  Swedish Transport Agency      2017      3000000   government   \n",
       "251                 Instagram      2017      6000000          web   \n",
       "252                   Equifax      2017    143000000    financial   \n",
       "253                   Spambot      2017    711000000          web   \n",
       "\n",
       "             METHOD OF LEAK DATA SENSITIVITY  \n",
       "249  accidentally published              300  \n",
       "250           poor security            50000  \n",
       "251                  hacked                1  \n",
       "252                  hacked            50000  \n",
       "253           poor security             4000  "
      ]
     },
     "execution_count": 9,
     "metadata": {},
     "output_type": "execute_result"
    }
   ],
   "source": [
    "cleaned4 = cleaned3.copy()\n",
    "cleaned4.loc[cleaned3['Real Year'] > 2017, 'Real Year'] = 2017\n",
    "cleaned4.tail()"
   ]
  },
  {
   "cell_type": "markdown",
   "metadata": {},
   "source": [
    "One occurence of \"web, tech\" should change to \"tech, web\" for consistency with other \"tech, web\" rows"
   ]
  },
  {
   "cell_type": "code",
   "execution_count": 10,
   "metadata": {
    "collapsed": false
   },
   "outputs": [],
   "source": [
    "cleaned5 = cleaned4.copy()\n",
    "cleaned5.loc[cleaned4['ORGANISATION'] == 'web, tech', 'ORGANISATION'] = 'tech, web'"
   ]
  },
  {
   "cell_type": "markdown",
   "metadata": {},
   "source": [
    "Change one occurence of data sensitivity \"3\" to \"300\""
   ]
  },
  {
   "cell_type": "code",
   "execution_count": 11,
   "metadata": {
    "collapsed": true
   },
   "outputs": [],
   "source": [
    "cleaned6 = cleaned5.copy()\n",
    "cleaned6.loc[cleaned5['DATA SENSITIVITY'] == 3, 'DATA SENSITIVITY'] = 300"
   ]
  },
  {
   "cell_type": "markdown",
   "metadata": {},
   "source": [
    "\"twitch.tv\" organization is listed as \"healthcare\". Change to \"web, gaming\""
   ]
  },
  {
   "cell_type": "code",
   "execution_count": 12,
   "metadata": {
    "collapsed": true
   },
   "outputs": [],
   "source": [
    "cleaned7 = cleaned6.copy()\n",
    "cleaned7.loc[cleaned6['Entity'] == 'Twitch.tv', 'ORGANISATION'] = 'gaming'"
   ]
  },
  {
   "cell_type": "code",
   "execution_count": 13,
   "metadata": {
    "collapsed": false
   },
   "outputs": [
    {
     "data": {
      "text/html": [
       "<div>\n",
       "<style>\n",
       "    .dataframe thead tr:only-child th {\n",
       "        text-align: right;\n",
       "    }\n",
       "\n",
       "    .dataframe thead th {\n",
       "        text-align: left;\n",
       "    }\n",
       "\n",
       "    .dataframe tbody tr th {\n",
       "        vertical-align: top;\n",
       "    }\n",
       "</style>\n",
       "<table border=\"1\" class=\"dataframe\">\n",
       "  <thead>\n",
       "    <tr style=\"text-align: right;\">\n",
       "      <th></th>\n",
       "      <th>Entity</th>\n",
       "      <th>Real Year</th>\n",
       "      <th>records lost</th>\n",
       "      <th>ORGANISATION</th>\n",
       "      <th>METHOD OF LEAK</th>\n",
       "      <th>DATA SENSITIVITY</th>\n",
       "    </tr>\n",
       "  </thead>\n",
       "  <tbody>\n",
       "    <tr>\n",
       "      <th>180</th>\n",
       "      <td>Twitch.tv</td>\n",
       "      <td>2014</td>\n",
       "      <td>10000000</td>\n",
       "      <td>gaming</td>\n",
       "      <td>hacked</td>\n",
       "      <td>1</td>\n",
       "    </tr>\n",
       "  </tbody>\n",
       "</table>\n",
       "</div>"
      ],
      "text/plain": [
       "        Entity Real Year records lost ORGANISATION METHOD OF LEAK  \\\n",
       "180  Twitch.tv      2014     10000000       gaming         hacked   \n",
       "\n",
       "    DATA SENSITIVITY  \n",
       "180                1  "
      ]
     },
     "execution_count": 13,
     "metadata": {},
     "output_type": "execute_result"
    }
   ],
   "source": [
    "cleaned7.loc[cleaned7['Entity'] == 'Twitch.tv']"
   ]
  },
  {
   "cell_type": "markdown",
   "metadata": {},
   "source": [
    "### Each organization type split into one of two Tech Saviness Categories:"
   ]
  },
  {
   "cell_type": "code",
   "execution_count": 14,
   "metadata": {
    "collapsed": false
   },
   "outputs": [
    {
     "data": {
      "text/plain": [
       "array([u'web', u'financial', u'tech, retail', u'telecoms',\n",
       "       u'government, military', u'government', u'retail', u'academic',\n",
       "       u'energy', u'military', u'healthcare', u'tech',\n",
       "       u'government, healthcare', u'web, gaming', u'gaming', u'media',\n",
       "       u'military, healthcare', u'web, military', u'tech, web',\n",
       "       u'transport', u'legal', u'app'], dtype=object)"
      ]
     },
     "execution_count": 14,
     "metadata": {},
     "output_type": "execute_result"
    }
   ],
   "source": [
    "# show all types of organizations listed:\n",
    "\n",
    "cleaned7.ORGANISATION.unique()"
   ]
  },
  {
   "cell_type": "markdown",
   "metadata": {},
   "source": [
    "### My definition of a tech-savy company:\n",
    "\n",
    "#### - Nowadays, most companies use technology in their operations.  A company that simply uses the technology is not tech-savy.  A tech-savy company is one that is involved with the improvement of the technologies that all companies and consumers use, whether it be features or security.  If a company has multiple organisation categories, it is savy as long as one of those categories are tech related"
   ]
  },
  {
   "cell_type": "code",
   "execution_count": 15,
   "metadata": {
    "collapsed": false
   },
   "outputs": [],
   "source": [
    "# Make new column \"Tech Saviness\", categorize accordingly\n",
    "cleaned7[\"Tech Saviness\"] = \"New\"\n",
    "\n",
    "cleaned7[\"Tech Saviness\"][cleaned7[\"ORGANISATION\"] == \"web\"] = \"Savy\"\n",
    "cleaned7[\"Tech Saviness\"][cleaned7[\"ORGANISATION\"] == \"financial\"] = \"Savy\"\n",
    "cleaned7[\"Tech Saviness\"][cleaned7[\"ORGANISATION\"] == \"telecoms\"] = \"Savy\"\n",
    "cleaned7[\"Tech Saviness\"][cleaned7[\"ORGANISATION\"] == \"tech\"] = \"Savy\"\n",
    "cleaned7[\"Tech Saviness\"][cleaned7[\"ORGANISATION\"] == \"web, gaming\"] = \"Savy\"\n",
    "cleaned7[\"Tech Saviness\"][cleaned7[\"ORGANISATION\"] == \"gaming\"] = \"Savy\"\n",
    "cleaned7[\"Tech Saviness\"][cleaned7[\"ORGANISATION\"] == \"web, military\"] = \"Savy\"\n",
    "cleaned7[\"Tech Saviness\"][cleaned7[\"ORGANISATION\"] == \"tech, web\"] = \"Savy\"\n",
    "cleaned7[\"Tech Saviness\"][cleaned7[\"ORGANISATION\"] == \"app\"] = \"Savy\"\n",
    "cleaned7[\"Tech Saviness\"][cleaned7[\"ORGANISATION\"] == \"tech, retail\"] = \"Savy\"\n",
    "cleaned7[\"Tech Saviness\"][cleaned7[\"ORGANISATION\"] == \"government, military\"] = \"Savy\"\n",
    "cleaned7[\"Tech Saviness\"][cleaned7[\"ORGANISATION\"] == \"government\"] = \"Savy\"\n",
    "cleaned7[\"Tech Saviness\"][cleaned7[\"ORGANISATION\"] == \"government, healthcare\"] = \"Savy\"\n",
    "cleaned7[\"Tech Saviness\"][cleaned7[\"ORGANISATION\"] == \"military\"] = \"Savy\"\n",
    "cleaned7[\"Tech Saviness\"][cleaned7[\"ORGANISATION\"] == \"military, healthcare\"] = \"Savy\"\n",
    "\n",
    "cleaned7[\"Tech Saviness\"][cleaned7[\"ORGANISATION\"] == \"retail\"] = \"NonSavy\"\n",
    "cleaned7[\"Tech Saviness\"][cleaned7[\"ORGANISATION\"] == \"academic\"] = \"NonSavy\"\n",
    "cleaned7[\"Tech Saviness\"][cleaned7[\"ORGANISATION\"] == \"energy\"] = \"NonSavy\"\n",
    "cleaned7[\"Tech Saviness\"][cleaned7[\"ORGANISATION\"] == \"healthcare\"] = \"NonSavy\"\n",
    "cleaned7[\"Tech Saviness\"][cleaned7[\"ORGANISATION\"] == \"media\"] = \"NonSavy\"\n",
    "cleaned7[\"Tech Saviness\"][cleaned7[\"ORGANISATION\"] == \"transport\"] = \"NonSavy\"\n",
    "cleaned7[\"Tech Saviness\"][cleaned7[\"ORGANISATION\"] == \"legal\"] = \"NonSavy\""
   ]
  },
  {
   "cell_type": "code",
   "execution_count": 16,
   "metadata": {
    "collapsed": false
   },
   "outputs": [],
   "source": [
    "# Export to CSV\n",
    "\n",
    "cleaned7.to_csv(\"DataBreaches.csv\", header=True, encoding='utf-8')"
   ]
  },
  {
   "cell_type": "markdown",
   "metadata": {
    "collapsed": true
   },
   "source": [
    "# Conclusion"
   ]
  },
  {
   "cell_type": "markdown",
   "metadata": {},
   "source": [
    "Tech savy companies see more data breaches than non-savy companies, refuting the  claim that data breaches happen more often to non-savy companies.\n",
    "\n",
    "Nowadays, most companies use technology in their operations.  A company that simply uses the technology is not tech-savy.  A tech-savy company is one that is involved with the improvement of the technologies that all companies and consumers use, whether it be features or security.  If a company has multiple organisation categories, it is savy as long as one of those categories are tech related\n",
    "\n",
    "I chose to disregard number of records stolen per incident, because I believe this is irrelevant. Once a hacker gains access to sensitive information, he will already have access to all the information at that level of security.  Number of records stored is different for each company, and a company's number of customers has nothing to do with their levels of security or the value of their data.  Therefore saviness and organization type are more important factors to consider."
   ]
  }
 ],
 "metadata": {
  "kernelspec": {
   "display_name": "Python 2",
   "language": "python",
   "name": "python2"
  },
  "language_info": {
   "codemirror_mode": {
    "name": "ipython",
    "version": 2
   },
   "file_extension": ".py",
   "mimetype": "text/x-python",
   "name": "python",
   "nbconvert_exporter": "python",
   "pygments_lexer": "ipython2",
   "version": "2.7.11"
  }
 },
 "nbformat": 4,
 "nbformat_minor": 0
}
