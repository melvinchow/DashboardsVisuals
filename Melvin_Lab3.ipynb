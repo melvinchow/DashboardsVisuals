{
 "cells": [
  {
   "cell_type": "markdown",
   "metadata": {},
   "source": [
    "# Claim to support / refute:"
   ]
  },
  {
   "cell_type": "markdown",
   "metadata": {},
   "source": [
    "#### - “The   financial   markets   do   not   punish   security   breaches.”\n",
    "\n",
    "https://public.tableau.com/profile/melvin7659#!/vizhome/DataBreach_Effect_on_Stocks/Sheet23?publish=yes"
   ]
  },
  {
   "cell_type": "markdown",
   "metadata": {},
   "source": [
    "## Organizing & Cleaning the Data"
   ]
  },
  {
   "cell_type": "code",
   "execution_count": 2,
   "metadata": {
    "collapsed": false
   },
   "outputs": [],
   "source": [
    "# Imports\n",
    "\n",
    "import pandas as pd\n",
    "import xlrd as xl"
   ]
  },
  {
   "cell_type": "code",
   "execution_count": 2,
   "metadata": {
    "collapsed": false
   },
   "outputs": [],
   "source": [
    "# Load data into Excel file\n",
    "data = pd.ExcelFile(\"InfoisBeautiful-DataBreaches.xlsx\")"
   ]
  },
  {
   "cell_type": "code",
   "execution_count": 3,
   "metadata": {
    "collapsed": false
   },
   "outputs": [
    {
     "data": {
      "text/plain": [
       "['2017 update', 'Jan 2015 update', 'July 2013 update (old)']"
      ]
     },
     "execution_count": 3,
     "metadata": {},
     "output_type": "execute_result"
    }
   ],
   "source": [
    "# See sheet names in excel file\n",
    "data.sheet_names"
   ]
  },
  {
   "cell_type": "code",
   "execution_count": 4,
   "metadata": {
    "collapsed": true
   },
   "outputs": [],
   "source": [
    "# Load first sheet into dataframe\n",
    "\n",
    "DF = data.parse('2017 update')"
   ]
  },
  {
   "cell_type": "code",
   "execution_count": 5,
   "metadata": {
    "collapsed": false,
    "scrolled": true
   },
   "outputs": [
    {
     "data": {
      "text/plain": [
       "Index(['Entity', 'alternative name', 'story', 'YEAR', 'records lost',\n",
       "       'ORGANISATION', 'METHOD OF LEAK', 'interesting story',\n",
       "       'NO OF RECORDS STOLEN', 'DATA SENSITIVITY', 'UNUSED', 'UNUSED.1',\n",
       "       'Exclude', 'Unnamed: 13', '1st source link', '2nd source link',\n",
       "       '3rd source', 'source name'],\n",
       "      dtype='object')"
      ]
     },
     "execution_count": 5,
     "metadata": {},
     "output_type": "execute_result"
    }
   ],
   "source": [
    "# Preview data columns\n",
    "DF.columns"
   ]
  },
  {
   "cell_type": "code",
   "execution_count": 6,
   "metadata": {
    "collapsed": false,
    "scrolled": true
   },
   "outputs": [
    {
     "data": {
      "text/html": [
       "<div>\n",
       "<style>\n",
       "    .dataframe thead tr:only-child th {\n",
       "        text-align: right;\n",
       "    }\n",
       "\n",
       "    .dataframe thead th {\n",
       "        text-align: left;\n",
       "    }\n",
       "\n",
       "    .dataframe tbody tr th {\n",
       "        vertical-align: top;\n",
       "    }\n",
       "</style>\n",
       "<table border=\"1\" class=\"dataframe\">\n",
       "  <thead>\n",
       "    <tr style=\"text-align: right;\">\n",
       "      <th></th>\n",
       "      <th>Entity</th>\n",
       "      <th>YEAR</th>\n",
       "      <th>records lost</th>\n",
       "      <th>ORGANISATION</th>\n",
       "      <th>METHOD OF LEAK</th>\n",
       "      <th>DATA SENSITIVITY</th>\n",
       "    </tr>\n",
       "  </thead>\n",
       "  <tbody>\n",
       "    <tr>\n",
       "      <th>0</th>\n",
       "      <td>NaN</td>\n",
       "      <td>years are encoded (0=2004, 8 = 2012, 9 = 2013,...</td>\n",
       "      <td>(use 3m, 4m, 5m or 10m to approximate unknown ...</td>\n",
       "      <td>NaN</td>\n",
       "      <td>NaN</td>\n",
       "      <td>1. Just email address/Online information 20 SS...</td>\n",
       "    </tr>\n",
       "    <tr>\n",
       "      <th>1</th>\n",
       "      <td>AOL</td>\n",
       "      <td>0</td>\n",
       "      <td>92000000</td>\n",
       "      <td>web</td>\n",
       "      <td>inside job</td>\n",
       "      <td>1</td>\n",
       "    </tr>\n",
       "    <tr>\n",
       "      <th>2</th>\n",
       "      <td>Automatic Data Processing</td>\n",
       "      <td>1</td>\n",
       "      <td>125000</td>\n",
       "      <td>financial</td>\n",
       "      <td>poor security</td>\n",
       "      <td>20</td>\n",
       "    </tr>\n",
       "    <tr>\n",
       "      <th>3</th>\n",
       "      <td>Ameritrade Inc.</td>\n",
       "      <td>1</td>\n",
       "      <td>200000</td>\n",
       "      <td>financial</td>\n",
       "      <td>lost / stolen device</td>\n",
       "      <td>20</td>\n",
       "    </tr>\n",
       "    <tr>\n",
       "      <th>4</th>\n",
       "      <td>Citigroup</td>\n",
       "      <td>1</td>\n",
       "      <td>3900000</td>\n",
       "      <td>financial</td>\n",
       "      <td>lost / stolen device</td>\n",
       "      <td>300</td>\n",
       "    </tr>\n",
       "  </tbody>\n",
       "</table>\n",
       "</div>"
      ],
      "text/plain": [
       "                      Entity  \\\n",
       "0                        NaN   \n",
       "1                        AOL   \n",
       "2  Automatic Data Processing   \n",
       "3            Ameritrade Inc.   \n",
       "4                  Citigroup   \n",
       "\n",
       "                                                YEAR  \\\n",
       "0  years are encoded (0=2004, 8 = 2012, 9 = 2013,...   \n",
       "1                                                  0   \n",
       "2                                                  1   \n",
       "3                                                  1   \n",
       "4                                                  1   \n",
       "\n",
       "                                        records lost ORGANISATION  \\\n",
       "0  (use 3m, 4m, 5m or 10m to approximate unknown ...          NaN   \n",
       "1                                           92000000          web   \n",
       "2                                             125000    financial   \n",
       "3                                             200000    financial   \n",
       "4                                            3900000    financial   \n",
       "\n",
       "         METHOD OF LEAK                                   DATA SENSITIVITY  \n",
       "0                   NaN  1. Just email address/Online information 20 SS...  \n",
       "1            inside job                                                  1  \n",
       "2         poor security                                                 20  \n",
       "3  lost / stolen device                                                 20  \n",
       "4  lost / stolen device                                                300  "
      ]
     },
     "execution_count": 6,
     "metadata": {},
     "output_type": "execute_result"
    }
   ],
   "source": [
    "# Remove unnecessary columns\n",
    "\n",
    "StripCols = DF[[\"Entity\", \"YEAR\", \"records lost\", \"ORGANISATION\", \"METHOD OF LEAK\", \"DATA SENSITIVITY\"]]\n",
    "StripCols.head()"
   ]
  },
  {
   "cell_type": "code",
   "execution_count": 7,
   "metadata": {
    "collapsed": false
   },
   "outputs": [
    {
     "data": {
      "text/html": [
       "<div>\n",
       "<style>\n",
       "    .dataframe thead tr:only-child th {\n",
       "        text-align: right;\n",
       "    }\n",
       "\n",
       "    .dataframe thead th {\n",
       "        text-align: left;\n",
       "    }\n",
       "\n",
       "    .dataframe tbody tr th {\n",
       "        vertical-align: top;\n",
       "    }\n",
       "</style>\n",
       "<table border=\"1\" class=\"dataframe\">\n",
       "  <thead>\n",
       "    <tr style=\"text-align: right;\">\n",
       "      <th></th>\n",
       "      <th>Entity</th>\n",
       "      <th>YEAR</th>\n",
       "      <th>records lost</th>\n",
       "      <th>ORGANISATION</th>\n",
       "      <th>METHOD OF LEAK</th>\n",
       "      <th>DATA SENSITIVITY</th>\n",
       "    </tr>\n",
       "  </thead>\n",
       "  <tbody>\n",
       "    <tr>\n",
       "      <th>1</th>\n",
       "      <td>AOL</td>\n",
       "      <td>0</td>\n",
       "      <td>92000000</td>\n",
       "      <td>web</td>\n",
       "      <td>inside job</td>\n",
       "      <td>1</td>\n",
       "    </tr>\n",
       "    <tr>\n",
       "      <th>2</th>\n",
       "      <td>Automatic Data Processing</td>\n",
       "      <td>1</td>\n",
       "      <td>125000</td>\n",
       "      <td>financial</td>\n",
       "      <td>poor security</td>\n",
       "      <td>20</td>\n",
       "    </tr>\n",
       "    <tr>\n",
       "      <th>3</th>\n",
       "      <td>Ameritrade Inc.</td>\n",
       "      <td>1</td>\n",
       "      <td>200000</td>\n",
       "      <td>financial</td>\n",
       "      <td>lost / stolen device</td>\n",
       "      <td>20</td>\n",
       "    </tr>\n",
       "    <tr>\n",
       "      <th>4</th>\n",
       "      <td>Citigroup</td>\n",
       "      <td>1</td>\n",
       "      <td>3900000</td>\n",
       "      <td>financial</td>\n",
       "      <td>lost / stolen device</td>\n",
       "      <td>300</td>\n",
       "    </tr>\n",
       "    <tr>\n",
       "      <th>5</th>\n",
       "      <td>Cardsystems Solutions Inc.</td>\n",
       "      <td>1</td>\n",
       "      <td>40000000</td>\n",
       "      <td>financial</td>\n",
       "      <td>hacked</td>\n",
       "      <td>300</td>\n",
       "    </tr>\n",
       "  </tbody>\n",
       "</table>\n",
       "</div>"
      ],
      "text/plain": [
       "                        Entity YEAR records lost ORGANISATION  \\\n",
       "1                          AOL    0     92000000          web   \n",
       "2    Automatic Data Processing    1       125000    financial   \n",
       "3              Ameritrade Inc.    1       200000    financial   \n",
       "4                    Citigroup    1      3900000    financial   \n",
       "5  Cardsystems Solutions Inc.     1     40000000    financial   \n",
       "\n",
       "         METHOD OF LEAK DATA SENSITIVITY  \n",
       "1            inside job                1  \n",
       "2         poor security               20  \n",
       "3  lost / stolen device               20  \n",
       "4  lost / stolen device              300  \n",
       "5                hacked              300  "
      ]
     },
     "execution_count": 7,
     "metadata": {},
     "output_type": "execute_result"
    }
   ],
   "source": [
    "# remove first row with NaN values\n",
    "\n",
    "cleaned = StripCols.dropna()\n",
    "cleaned.head()"
   ]
  },
  {
   "cell_type": "markdown",
   "metadata": {},
   "source": [
    "Convert year values to real years"
   ]
  },
  {
   "cell_type": "code",
   "execution_count": 8,
   "metadata": {
    "collapsed": false,
    "scrolled": false
   },
   "outputs": [
    {
     "data": {
      "text/html": [
       "<div>\n",
       "<style>\n",
       "    .dataframe thead tr:only-child th {\n",
       "        text-align: right;\n",
       "    }\n",
       "\n",
       "    .dataframe thead th {\n",
       "        text-align: left;\n",
       "    }\n",
       "\n",
       "    .dataframe tbody tr th {\n",
       "        vertical-align: top;\n",
       "    }\n",
       "</style>\n",
       "<table border=\"1\" class=\"dataframe\">\n",
       "  <thead>\n",
       "    <tr style=\"text-align: right;\">\n",
       "      <th></th>\n",
       "      <th>Entity</th>\n",
       "      <th>Real Year</th>\n",
       "      <th>records lost</th>\n",
       "      <th>ORGANISATION</th>\n",
       "      <th>METHOD OF LEAK</th>\n",
       "      <th>DATA SENSITIVITY</th>\n",
       "    </tr>\n",
       "  </thead>\n",
       "  <tbody>\n",
       "    <tr>\n",
       "      <th>249</th>\n",
       "      <td>CEX</td>\n",
       "      <td>2018</td>\n",
       "      <td>2000000</td>\n",
       "      <td>retail</td>\n",
       "      <td>accidentally published</td>\n",
       "      <td>300</td>\n",
       "    </tr>\n",
       "    <tr>\n",
       "      <th>250</th>\n",
       "      <td>Swedish Transport Agency</td>\n",
       "      <td>2018</td>\n",
       "      <td>3000000</td>\n",
       "      <td>government</td>\n",
       "      <td>poor security</td>\n",
       "      <td>50000</td>\n",
       "    </tr>\n",
       "    <tr>\n",
       "      <th>251</th>\n",
       "      <td>Instagram</td>\n",
       "      <td>2018</td>\n",
       "      <td>6000000</td>\n",
       "      <td>web</td>\n",
       "      <td>hacked</td>\n",
       "      <td>1</td>\n",
       "    </tr>\n",
       "    <tr>\n",
       "      <th>252</th>\n",
       "      <td>Equifax</td>\n",
       "      <td>2018</td>\n",
       "      <td>143000000</td>\n",
       "      <td>financial</td>\n",
       "      <td>hacked</td>\n",
       "      <td>50000</td>\n",
       "    </tr>\n",
       "    <tr>\n",
       "      <th>253</th>\n",
       "      <td>Spambot</td>\n",
       "      <td>2018</td>\n",
       "      <td>711000000</td>\n",
       "      <td>web</td>\n",
       "      <td>poor security</td>\n",
       "      <td>4000</td>\n",
       "    </tr>\n",
       "  </tbody>\n",
       "</table>\n",
       "</div>"
      ],
      "text/plain": [
       "                       Entity Real Year records lost ORGANISATION  \\\n",
       "249                       CEX      2018      2000000       retail   \n",
       "250  Swedish Transport Agency      2018      3000000   government   \n",
       "251                 Instagram      2018      6000000          web   \n",
       "252                   Equifax      2018    143000000    financial   \n",
       "253                   Spambot      2018    711000000          web   \n",
       "\n",
       "             METHOD OF LEAK DATA SENSITIVITY  \n",
       "249  accidentally published              300  \n",
       "250           poor security            50000  \n",
       "251                  hacked                1  \n",
       "252                  hacked            50000  \n",
       "253           poor security             4000  "
      ]
     },
     "execution_count": 8,
     "metadata": {},
     "output_type": "execute_result"
    }
   ],
   "source": [
    "cleaned['YEAR'].astype(int)   # Convert data type\n",
    "cleaned2 = cleaned.copy()\n",
    "cleaned2['Real Year'] = cleaned['YEAR'] + 2004\n",
    "\n",
    "cleaned3 = cleaned2[[\"Entity\", \"Real Year\", \"records lost\", \"ORGANISATION\", \"METHOD OF LEAK\", \"DATA SENSITIVITY\"]]\n",
    "cleaned3.tail()"
   ]
  },
  {
   "cell_type": "markdown",
   "metadata": {},
   "source": [
    "#### Some data in various rows had errors and need altering for consistency:"
   ]
  },
  {
   "cell_type": "markdown",
   "metadata": {},
   "source": [
    "Most recent breaches appear as \"2018\". Change to \"2017\"."
   ]
  },
  {
   "cell_type": "code",
   "execution_count": 9,
   "metadata": {
    "collapsed": false
   },
   "outputs": [
    {
     "data": {
      "text/html": [
       "<div>\n",
       "<style>\n",
       "    .dataframe thead tr:only-child th {\n",
       "        text-align: right;\n",
       "    }\n",
       "\n",
       "    .dataframe thead th {\n",
       "        text-align: left;\n",
       "    }\n",
       "\n",
       "    .dataframe tbody tr th {\n",
       "        vertical-align: top;\n",
       "    }\n",
       "</style>\n",
       "<table border=\"1\" class=\"dataframe\">\n",
       "  <thead>\n",
       "    <tr style=\"text-align: right;\">\n",
       "      <th></th>\n",
       "      <th>Entity</th>\n",
       "      <th>Real Year</th>\n",
       "      <th>records lost</th>\n",
       "      <th>ORGANISATION</th>\n",
       "      <th>METHOD OF LEAK</th>\n",
       "      <th>DATA SENSITIVITY</th>\n",
       "    </tr>\n",
       "  </thead>\n",
       "  <tbody>\n",
       "    <tr>\n",
       "      <th>249</th>\n",
       "      <td>CEX</td>\n",
       "      <td>2017</td>\n",
       "      <td>2000000</td>\n",
       "      <td>retail</td>\n",
       "      <td>accidentally published</td>\n",
       "      <td>300</td>\n",
       "    </tr>\n",
       "    <tr>\n",
       "      <th>250</th>\n",
       "      <td>Swedish Transport Agency</td>\n",
       "      <td>2017</td>\n",
       "      <td>3000000</td>\n",
       "      <td>government</td>\n",
       "      <td>poor security</td>\n",
       "      <td>50000</td>\n",
       "    </tr>\n",
       "    <tr>\n",
       "      <th>251</th>\n",
       "      <td>Instagram</td>\n",
       "      <td>2017</td>\n",
       "      <td>6000000</td>\n",
       "      <td>web</td>\n",
       "      <td>hacked</td>\n",
       "      <td>1</td>\n",
       "    </tr>\n",
       "    <tr>\n",
       "      <th>252</th>\n",
       "      <td>Equifax</td>\n",
       "      <td>2017</td>\n",
       "      <td>143000000</td>\n",
       "      <td>financial</td>\n",
       "      <td>hacked</td>\n",
       "      <td>50000</td>\n",
       "    </tr>\n",
       "    <tr>\n",
       "      <th>253</th>\n",
       "      <td>Spambot</td>\n",
       "      <td>2017</td>\n",
       "      <td>711000000</td>\n",
       "      <td>web</td>\n",
       "      <td>poor security</td>\n",
       "      <td>4000</td>\n",
       "    </tr>\n",
       "  </tbody>\n",
       "</table>\n",
       "</div>"
      ],
      "text/plain": [
       "                       Entity Real Year records lost ORGANISATION  \\\n",
       "249                       CEX      2017      2000000       retail   \n",
       "250  Swedish Transport Agency      2017      3000000   government   \n",
       "251                 Instagram      2017      6000000          web   \n",
       "252                   Equifax      2017    143000000    financial   \n",
       "253                   Spambot      2017    711000000          web   \n",
       "\n",
       "             METHOD OF LEAK DATA SENSITIVITY  \n",
       "249  accidentally published              300  \n",
       "250           poor security            50000  \n",
       "251                  hacked                1  \n",
       "252                  hacked            50000  \n",
       "253           poor security             4000  "
      ]
     },
     "execution_count": 9,
     "metadata": {},
     "output_type": "execute_result"
    }
   ],
   "source": [
    "cleaned4 = cleaned3.copy()\n",
    "cleaned4.loc[cleaned3['Real Year'] > 2017, 'Real Year'] = 2017\n",
    "cleaned4.tail()"
   ]
  },
  {
   "cell_type": "markdown",
   "metadata": {},
   "source": [
    "One occurence of \"web, tech\" should change to \"tech, web\" for consistency with other \"tech, web\" rows"
   ]
  },
  {
   "cell_type": "code",
   "execution_count": 10,
   "metadata": {
    "collapsed": true
   },
   "outputs": [],
   "source": [
    "cleaned5 = cleaned4.copy()\n",
    "cleaned5.loc[cleaned4['ORGANISATION'] == 'web, tech', 'ORGANISATION'] = 'tech, web'"
   ]
  },
  {
   "cell_type": "markdown",
   "metadata": {},
   "source": [
    "Change one occurence of data sensitivity \"3\" to \"300\""
   ]
  },
  {
   "cell_type": "code",
   "execution_count": 11,
   "metadata": {
    "collapsed": true
   },
   "outputs": [],
   "source": [
    "cleaned6 = cleaned5.copy()\n",
    "cleaned6.loc[cleaned5['DATA SENSITIVITY'] == 3, 'DATA SENSITIVITY'] = 300"
   ]
  },
  {
   "cell_type": "markdown",
   "metadata": {},
   "source": [
    "\"twitch.tv\" organization is listed as \"healthcare\". Change to \"web, gaming\""
   ]
  },
  {
   "cell_type": "code",
   "execution_count": 12,
   "metadata": {
    "collapsed": true
   },
   "outputs": [],
   "source": [
    "cleaned7 = cleaned6.copy()\n",
    "cleaned7.loc[cleaned6['Entity'] == 'Twitch.tv', 'ORGANISATION'] = 'gaming'"
   ]
  },
  {
   "cell_type": "code",
   "execution_count": 13,
   "metadata": {
    "collapsed": false,
    "scrolled": true
   },
   "outputs": [
    {
     "data": {
      "text/html": [
       "<div>\n",
       "<style>\n",
       "    .dataframe thead tr:only-child th {\n",
       "        text-align: right;\n",
       "    }\n",
       "\n",
       "    .dataframe thead th {\n",
       "        text-align: left;\n",
       "    }\n",
       "\n",
       "    .dataframe tbody tr th {\n",
       "        vertical-align: top;\n",
       "    }\n",
       "</style>\n",
       "<table border=\"1\" class=\"dataframe\">\n",
       "  <thead>\n",
       "    <tr style=\"text-align: right;\">\n",
       "      <th></th>\n",
       "      <th>Entity</th>\n",
       "      <th>Real Year</th>\n",
       "      <th>records lost</th>\n",
       "      <th>ORGANISATION</th>\n",
       "      <th>METHOD OF LEAK</th>\n",
       "      <th>DATA SENSITIVITY</th>\n",
       "    </tr>\n",
       "  </thead>\n",
       "  <tbody>\n",
       "    <tr>\n",
       "      <th>180</th>\n",
       "      <td>Twitch.tv</td>\n",
       "      <td>2014</td>\n",
       "      <td>10000000</td>\n",
       "      <td>gaming</td>\n",
       "      <td>hacked</td>\n",
       "      <td>1</td>\n",
       "    </tr>\n",
       "  </tbody>\n",
       "</table>\n",
       "</div>"
      ],
      "text/plain": [
       "        Entity Real Year records lost ORGANISATION METHOD OF LEAK  \\\n",
       "180  Twitch.tv      2014     10000000       gaming         hacked   \n",
       "\n",
       "    DATA SENSITIVITY  \n",
       "180                1  "
      ]
     },
     "execution_count": 13,
     "metadata": {},
     "output_type": "execute_result"
    }
   ],
   "source": [
    "cleaned7.loc[cleaned7['Entity'] == 'Twitch.tv']"
   ]
  },
  {
   "cell_type": "markdown",
   "metadata": {},
   "source": [
    "## Gather list of company stock ticker symbols:"
   ]
  },
  {
   "cell_type": "markdown",
   "metadata": {},
   "source": [
    "Clean entity names for proper querying:"
   ]
  },
  {
   "cell_type": "code",
   "execution_count": 14,
   "metadata": {
    "collapsed": false
   },
   "outputs": [],
   "source": [
    "import re\n",
    "from fuzzywuzzy import string_processing  # fuzzywuzzy used to manage ascii / unicode errors\n",
    "from fuzzywuzzy import utils\n",
    "\n",
    "# New column for ticker names\n",
    "cleaned7['Stock Ticker'] = 'N/A'\n",
    "\n",
    "    # All Entity names to a list\n",
    "names = cleaned7.Entity.unique().tolist()\n",
    "    # Remove ASCII characters from names\n",
    "names2 = []\n",
    "\n",
    "    # cleaning names for higher chance of successful search query\n",
    "for i in names:\n",
    " i = i.replace(\"\\\"\", \"\")\n",
    " i = i.replace(\"\\'\", \"\")\n",
    " i = i.replace(\",\", \" \")\n",
    " i = utils.full_process(i)\n",
    " names2.append(i)\n",
    "                        # Dictionaries:\n",
    "Original = {}       # Original names from raw data\n",
    "RealNames = {}      # Names w/ special characters removed\n",
    "WebNames = {}       # Names for entering into URL\n",
    "\n",
    "     # non-breaking space for web search: '%20' or '&nbsp;'\n",
    "for i in range(0, len(names)):\n",
    " Original[i] = names[i]              # Need this to match back to DF\n",
    " RealNames[i] = names2[i]\n",
    " WebNames[i] = names2[i].replace(' ', '&nbsp;')"
   ]
  },
  {
   "cell_type": "markdown",
   "metadata": {},
   "source": [
    "Find ticker symbols of each company and put into new column"
   ]
  },
  {
   "cell_type": "code",
   "execution_count": 15,
   "metadata": {
    "collapsed": false
   },
   "outputs": [],
   "source": [
    "import urllib.request\n",
    "\n",
    "for i in RealNames:\n",
    "                            # Perform the search query\n",
    "    webLink = 'http://d.yimg.com/autoc.finance.yahoo.com/autoc?query=' + WebNames[i] + '&region=1&lang=en'\n",
    "    with urllib.request.urlopen(webLink) as response:\n",
    "       html = response.read()\n",
    "    \n",
    "    Buis = str(html)        # Convert byte type to string\n",
    "    \n",
    "                            # Result if query returns nothing\n",
    "    empty = len(RealNames[i]) + len('{\"ResultSet\":{\"Query\":\"\",\"Result\":[]}}')\n",
    "\n",
    "    Ticker = []             # List of tickers from search query\n",
    "\n",
    "    if len(Buis) > empty:             # If search query finds any info,\n",
    "        BuisInfo = Buis.split(',')    # Split string into array\n",
    "\n",
    "        for entry in BuisInfo:\n",
    "            if \"symbol\" in entry:     # Append ticker symbols to list\n",
    "                symbol = entry.split(\"\\\"\")     # extract ticker symbol\n",
    "                Ticker.append(symbol[-2])\n",
    "    if len(Ticker) > 0:\n",
    "        result = min(Ticker, key=len)\n",
    "        cleaned7['Stock Ticker'][cleaned7['Entity'] == Original[i]] = result"
   ]
  },
  {
   "cell_type": "markdown",
   "metadata": {},
   "source": [
    "Number of rows that did not get a stock ticker:"
   ]
  },
  {
   "cell_type": "code",
   "execution_count": 16,
   "metadata": {
    "collapsed": false,
    "scrolled": true
   },
   "outputs": [
    {
     "data": {
      "text/plain": [
       "66"
      ]
     },
     "execution_count": 16,
     "metadata": {},
     "output_type": "execute_result"
    }
   ],
   "source": [
    "cleaned7['Entity'][cleaned7['Stock Ticker'] == 'N/A'].count()"
   ]
  },
  {
   "cell_type": "markdown",
   "metadata": {},
   "source": [
    "We will only work with companies that have a stock ticker"
   ]
  },
  {
   "cell_type": "code",
   "execution_count": 165,
   "metadata": {
    "collapsed": false,
    "scrolled": true
   },
   "outputs": [],
   "source": [
    "cleaned8 = cleaned7[cleaned7['Stock Ticker'] != 'N/A'].copy()\n",
    "cleaned8['Worst stock price drop rate after breach'] = 0.0"
   ]
  },
  {
   "cell_type": "markdown",
   "metadata": {
    "collapsed": true
   },
   "source": [
    "## Gathering stock prices for each company during year of data breach:"
   ]
  },
  {
   "cell_type": "markdown",
   "metadata": {},
   "source": [
    "We do not have info on exact date when the breaches are publicized; only the year.  So assume the breach announcement happens at the largest percent drop in stock price in 10-day trading period within that year."
   ]
  },
  {
   "cell_type": "code",
   "execution_count": 87,
   "metadata": {
    "collapsed": false,
    "scrolled": true
   },
   "outputs": [],
   "source": [
    "from pandas_datareader import data, wb\n",
    "import pandas_datareader.data as web\n",
    "import datetime"
   ]
  },
  {
   "cell_type": "code",
   "execution_count": 166,
   "metadata": {
    "collapsed": false,
    "scrolled": false
   },
   "outputs": [],
   "source": [
    "# Some index numbers empty from row removal, so reset required\n",
    "cleaned8.reset_index(inplace=True)"
   ]
  },
  {
   "cell_type": "code",
   "execution_count": 167,
   "metadata": {
    "collapsed": false,
    "scrolled": true
   },
   "outputs": [
    {
     "data": {
      "text/plain": [
       "Index(['index', 'Entity', 'Real Year', 'records lost', 'ORGANISATION',\n",
       "       'METHOD OF LEAK', 'DATA SENSITIVITY', 'Stock Ticker',\n",
       "       'Worst stock price drop rate after breach'],\n",
       "      dtype='object')"
      ]
     },
     "execution_count": 167,
     "metadata": {},
     "output_type": "execute_result"
    }
   ],
   "source": [
    "cleaned8.columns"
   ]
  },
  {
   "cell_type": "markdown",
   "metadata": {
    "collapsed": true
   },
   "source": [
    "<B>MANUALLY</B> iterate through rows with the below code to get stock price rate for each row, from 0 to len of DF.  \n",
    "Unable to use complete loop automation because web datareader doesn't always work.  \n",
    "Can try re-run for a given row if errors occur and it might properly pull the data.  Otherwise, probably no stock data.  \n",
    "Successful price printout means data entry success."
   ]
  },
  {
   "cell_type": "code",
   "execution_count": 179,
   "metadata": {
    "collapsed": false
   },
   "outputs": [
    {
     "data": {
      "text/plain": [
       "185"
      ]
     },
     "execution_count": 179,
     "metadata": {},
     "output_type": "execute_result"
    }
   ],
   "source": [
    "len(cleaned8)"
   ]
  },
  {
   "cell_type": "code",
   "execution_count": 328,
   "metadata": {
    "collapsed": false
   },
   "outputs": [
    {
     "name": "stdout",
     "output_type": "stream",
     "text": [
      "183 -0.0358219733065\n",
      "184 -0.532264964543\n"
     ]
    }
   ],
   "source": [
    "n = 183  # CHANGE THIS STARTING NUMBER VALUE YOURSELF for all rows\n",
    "\n",
    "for i in range(n, len(cleaned8)):\n",
    "        # entry is one row of cleaned8.\n",
    " entry = cleaned8.values[i]\n",
    "\n",
    " entity = entry[1]\n",
    " year = entry[2]\n",
    " ticker = entry[-2]\n",
    "\n",
    " start = datetime.datetime(year, 1, 1)\n",
    " end = datetime.datetime(year,12,31)\n",
    " f = web.DataReader(ticker, 'yahoo', start, end)\n",
    "\n",
    " day1 = f['Close']            # We will only look at close values\n",
    " day2 = day1.shift(+10)\n",
    "\n",
    " ChangeAmnt = day1 - day2      # Negative is drop; positive is rise\n",
    " ChangePercent = ChangeAmnt / day1\n",
    "\n",
    " sortPercents = ChangePercent.sort_values()\n",
    "                                # Enter price into DF\n",
    " cleaned8.loc[i,'Worst stock price drop rate after breach'] = sortPercents[0]\n",
    " print(i, sortPercents[0])"
   ]
  },
  {
   "cell_type": "markdown",
   "metadata": {},
   "source": [
    "Check data entry accuracy below:"
   ]
  },
  {
   "cell_type": "code",
   "execution_count": 329,
   "metadata": {
    "collapsed": false
   },
   "outputs": [
    {
     "data": {
      "text/plain": [
       "index                                             252\n",
       "Entity                                        Equifax\n",
       "Real Year                                        2017\n",
       "records lost                                143000000\n",
       "ORGANISATION                                financial\n",
       "METHOD OF LEAK                                 hacked\n",
       "DATA SENSITIVITY                                50000\n",
       "Stock Ticker                                      EFX\n",
       "Worst stock price drop rate after breach    -0.532265\n",
       "Name: 184, dtype: object"
      ]
     },
     "execution_count": 329,
     "metadata": {},
     "output_type": "execute_result"
    }
   ],
   "source": [
    "cleaned8.loc[184]"
   ]
  },
  {
   "cell_type": "code",
   "execution_count": 330,
   "metadata": {
    "collapsed": true
   },
   "outputs": [],
   "source": [
    "# Export to CSV\n",
    "\n",
    "cleaned8.to_csv(\"DataBreach&Stocks.csv\", header=True, encoding='utf-8')"
   ]
  },
  {
   "cell_type": "markdown",
   "metadata": {},
   "source": [
    "Forgot to remove leftover rows that contain no stock data:"
   ]
  },
  {
   "cell_type": "code",
   "execution_count": 3,
   "metadata": {
    "collapsed": false
   },
   "outputs": [],
   "source": [
    "DF = pd.read_csv(\"DataBreach&Stocks.csv\")"
   ]
  },
  {
   "cell_type": "code",
   "execution_count": 5,
   "metadata": {
    "collapsed": false
   },
   "outputs": [],
   "source": [
    "DF2 = DF[DF['Worst stock price drop rate after breach'] != 0.000000]"
   ]
  },
  {
   "cell_type": "code",
   "execution_count": 8,
   "metadata": {
    "collapsed": false
   },
   "outputs": [],
   "source": [
    "DF2.to_csv(\"DataBreach&Stocks2.csv\", header=True, encoding='utf-8')"
   ]
  },
  {
   "cell_type": "markdown",
   "metadata": {},
   "source": [
    "# Conclusion"
   ]
  },
  {
   "cell_type": "markdown",
   "metadata": {
    "collapsed": true
   },
   "source": [
    "Stock price data can be very detailed; I decided the most important stock measure is change in closing values within a 10-day trading window, during the year the company experienced a breach. Lowest stock price drop rate within 10 days trading window is assumed to be when the breach was announced or occured.  Then, I took the average stock price drop rates, grouped by organization type. I figured it would be most useful to viewers when they can see the performance of their own industry in relation to other industries in the stock market.\n",
    "\n",
    "All companies' stocks can drop in value at various points in time. Severity and reasoning behind the drops has many factors behind it. Through this graph viewers can see what, and possibly also realize why some industry stock prices drop harder than others."
   ]
  },
  {
   "cell_type": "code",
   "execution_count": null,
   "metadata": {
    "collapsed": true
   },
   "outputs": [],
   "source": []
  }
 ],
 "metadata": {
  "kernelspec": {
   "display_name": "Python 3",
   "language": "python",
   "name": "python3"
  },
  "language_info": {
   "codemirror_mode": {
    "name": "ipython",
    "version": 3
   },
   "file_extension": ".py",
   "mimetype": "text/x-python",
   "name": "python",
   "nbconvert_exporter": "python",
   "pygments_lexer": "ipython3",
   "version": "3.6.1"
  }
 },
 "nbformat": 4,
 "nbformat_minor": 1
}
